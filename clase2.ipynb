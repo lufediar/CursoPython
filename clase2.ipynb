{
  "nbformat": 4,
  "nbformat_minor": 0,
  "metadata": {
    "colab": {
      "provenance": [],
      "authorship_tag": "ABX9TyOmyo+uyPYokSQy1i0I9Bll",
      "include_colab_link": true
    },
    "kernelspec": {
      "name": "python3",
      "display_name": "Python 3"
    },
    "language_info": {
      "name": "python"
    }
  },
  "cells": [
    {
      "cell_type": "markdown",
      "metadata": {
        "id": "view-in-github",
        "colab_type": "text"
      },
      "source": [
        "<a href=\"https://colab.research.google.com/github/lufediar/CursoPython/blob/main/clase2.ipynb\" target=\"_parent\"><img src=\"https://colab.research.google.com/assets/colab-badge.svg\" alt=\"Open In Colab\"/></a>"
      ]
    },
    {
      "cell_type": "markdown",
      "source": [
        "**CONDICIONALES Y FUNCIONES**\n",
        "\n",
        "CURSO PYTHON\n",
        "\n",
        "UNICAFAM\n",
        "\n",
        "ESTUDIANTE: LUISA FERNANDA DÍAZ ARENAS\n",
        "\n",
        "DOCENTE: NICOLAS MOJICA\n",
        "\n",
        "\n",
        "\n",
        "---\n",
        "\n",
        "\n"
      ],
      "metadata": {
        "id": "MXu0gr74BLwz"
      }
    },
    {
      "cell_type": "code",
      "source": [
        "#OPERADORES DE COMPACIÓN\n",
        "\"\"\"\n",
        "== igual\n",
        "!= diferente\n",
        "< menor que\n",
        "> mayor que\n",
        "<= menor o igual que\n",
        ">= mayor o igual que\n",
        "\"\"\"\n",
        "#"
      ],
      "metadata": {
        "id": "tFtYmq7nBM5-"
      },
      "execution_count": null,
      "outputs": []
    },
    {
      "cell_type": "markdown",
      "source": [
        "**GENERAR UN PROGRAMA QUE DETERMINIE SI UNA PERSONA ES MAYOR O MENOR DE EDAD**"
      ],
      "metadata": {
        "id": "Ed7sJfhFCckJ"
      }
    },
    {
      "cell_type": "code",
      "source": [
        "edad=18\n",
        "if edad>=18:\n",
        "  print(\"Eres mayor de edad\")\n",
        "else:\n",
        "  print(\"Eres menor de edad\")"
      ],
      "metadata": {
        "colab": {
          "base_uri": "https://localhost:8080/"
        },
        "id": "z0S3v-VUCl2F",
        "outputId": "3ba66ad9-9025-4a8b-fbc7-e88ac88f4f72"
      },
      "execution_count": 2,
      "outputs": [
        {
          "output_type": "stream",
          "name": "stdout",
          "text": [
            "Eres mayor de edad\n"
          ]
        }
      ]
    },
    {
      "cell_type": "code",
      "source": [
        "#CONDICIONES ANIDADAS\n",
        "nota=85\n",
        "if nota>=60:\n",
        "  if nota>=90:\n",
        "    print(\"Calificación Alta\")\n",
        "  elif nota>=80:\n",
        "    print(\"Calificación Media\")\n",
        "  else:\n",
        "    print(\"Calificación Baja\")\n",
        "else:\n",
        "  print(\"No aprobado\")"
      ],
      "metadata": {
        "colab": {
          "base_uri": "https://localhost:8080/"
        },
        "id": "uAiWGPjKDppn",
        "outputId": "583aff3b-04c6-41c8-949e-fdc4f1eb60fd"
      },
      "execution_count": 3,
      "outputs": [
        {
          "output_type": "stream",
          "name": "stdout",
          "text": [
            "Calificación Media\n"
          ]
        }
      ]
    },
    {
      "cell_type": "code",
      "source": [
        "calificacion=float(input(\"Introduzca su calificación:\"))\n",
        "if calificacion >= 60:\n",
        "   print(\"Aprobado\")\n",
        "else:\n",
        "  print(\"Reprobado\")"
      ],
      "metadata": {
        "colab": {
          "base_uri": "https://localhost:8080/"
        },
        "id": "xAlpKhYxGF6t",
        "outputId": "74f6c5e6-933c-4503-86c8-f9bbd08f019b"
      },
      "execution_count": 5,
      "outputs": [
        {
          "output_type": "stream",
          "name": "stdout",
          "text": [
            "Introduzca su calificación:40\n",
            "Reprobado\n"
          ]
        }
      ]
    },
    {
      "cell_type": "code",
      "source": [
        "#Escribe un programa que clasifique la edad en diferentes categorías: Niño (0-12 años), Adolescente (13-17 años), Adulto (18-64 años) y Anciano (65 años o más).\n",
        "\n",
        "edad = int(input(\"Introduzca su edad: \"))\n",
        "if edad <= 12:\n",
        "    print(\"Niño (0-12 años)\")\n",
        "elif edad <= 17:\n",
        "    print(\"Adolescente (13-17 años)\")\n",
        "elif edad <= 64:\n",
        "    print(\"Adulto (18-64 años)\")\n",
        "else:\n",
        "    print(\"Anciano (65 años o más)\")"
      ],
      "metadata": {
        "colab": {
          "base_uri": "https://localhost:8080/"
        },
        "id": "MuATyi-bG5A_",
        "outputId": "d09a74db-17dd-4085-e9a2-7b629369c782"
      },
      "execution_count": 15,
      "outputs": [
        {
          "output_type": "stream",
          "name": "stdout",
          "text": [
            "Introduzca su edad: 20\n",
            "Adulto (18-64 años)\n"
          ]
        }
      ]
    },
    {
      "cell_type": "code",
      "source": [
        "#Escribe un programa que pida al usuario una contraseña y verifique si es correcta. La contraseña correcta es \"secreta123\".\n",
        "\n",
        "contraseña = str(input(\"Introduzca su contraseña: \"))\n",
        "if contraseña == \"secreta123\":\n",
        "  print(\"Contraseña correcta\")\n",
        "else:\n",
        "  print(\"Contraseña incorrecta\")"
      ],
      "metadata": {
        "colab": {
          "base_uri": "https://localhost:8080/"
        },
        "id": "n-_uJ-BxMi03",
        "outputId": "afaa109e-c5bc-4ba7-ce21-7ab09cd156d0"
      },
      "execution_count": 26,
      "outputs": [
        {
          "output_type": "stream",
          "name": "stdout",
          "text": [
            "Introduzca su contraseña: ser56\n",
            "Contraseña incorrecta\n"
          ]
        }
      ]
    },
    {
      "cell_type": "code",
      "source": [
        "#Crea un programa que lea dos números y determine cuál es mayor, cuál es menor o si ambos son iguales.\n",
        "\n",
        "def mayor_menor(numero1, numero2):\n",
        "    if numero1 > numero2:\n",
        "        return \"El numero1 es mayor\"\n",
        "    elif numero1 < numero2:\n",
        "        return \"El numero2 es mayor\"\n",
        "    else:\n",
        "        return \"Ambos números son iguales\"\n",
        "numero1 = int(input(\"Introduzca el número1: \"))\n",
        "numero2 = int(input(\"Introduzca el número2: \"))\n",
        "resultado = mayor_menor(numero1, numero2)\n",
        "print(resultado)"
      ],
      "metadata": {
        "colab": {
          "base_uri": "https://localhost:8080/"
        },
        "id": "oKt_NNFXMkjI",
        "outputId": "d66123fb-716b-4ce9-ee50-b511ce0b48d1"
      },
      "execution_count": 37,
      "outputs": [
        {
          "output_type": "stream",
          "name": "stdout",
          "text": [
            "Introduzca el número1: 7\n",
            "Introduzca el número2: 10\n",
            "El numero2 es mayor\n"
          ]
        }
      ]
    },
    {
      "cell_type": "markdown",
      "source": [
        "**FUNCIONES**"
      ],
      "metadata": {
        "id": "JTWUUeTVM4G4"
      }
    },
    {
      "cell_type": "code",
      "source": [
        "# y=mx+b (Comportamiento de la recta)\n",
        "# y=2x+4\n",
        "x=5\n",
        "def recta(x):\n",
        "  return (2*x)+4\n",
        "print(recta(x))"
      ],
      "metadata": {
        "colab": {
          "base_uri": "https://localhost:8080/"
        },
        "id": "UQV_xalBM6u6",
        "outputId": "edfd9020-8737-40e8-e82e-ea5ff4526182"
      },
      "execution_count": 18,
      "outputs": [
        {
          "output_type": "stream",
          "name": "stdout",
          "text": [
            "14\n"
          ]
        }
      ]
    },
    {
      "cell_type": "code",
      "source": [
        "#CONTRUIR UNA FUNCIÓN QUE GENERA LA SUMA DE 2 NUMEROS\n",
        "def suma(a,b):\n",
        "  return print(a+b)\n",
        "suma(3,8)"
      ],
      "metadata": {
        "colab": {
          "base_uri": "https://localhost:8080/"
        },
        "id": "HRvwyMzWO_qd",
        "outputId": "a5260f7a-0e9f-421f-f1d1-7e4e6a21c2e6"
      },
      "execution_count": 19,
      "outputs": [
        {
          "output_type": "stream",
          "name": "stdout",
          "text": [
            "11\n"
          ]
        }
      ]
    },
    {
      "cell_type": "code",
      "source": [
        "#DADA 2 VARIABLES a y b CALCULAR LA SUMA Y RESTA ENTRE ESTOS 2 VALORES\n",
        "\n",
        "def operaciones(a,b):\n",
        "  sumas=a+b\n",
        "  resta=a-b\n",
        "  return sumas,resta\n",
        "sumas,resta=operaciones(10,5)\n",
        "print(f\"suma:{sumas},resta:{resta}\")"
      ],
      "metadata": {
        "colab": {
          "base_uri": "https://localhost:8080/"
        },
        "id": "3feKYMVQQdOB",
        "outputId": "a3bd8b64-4b0c-457d-f68d-5565517201f8"
      },
      "execution_count": 23,
      "outputs": [
        {
          "output_type": "stream",
          "name": "stdout",
          "text": [
            "suma:15,resta:5\n"
          ]
        }
      ]
    },
    {
      "cell_type": "code",
      "source": [
        "#Funcion que determine si un numero es par o impar y que envie un mensaje con el resultado de la valdiacion\n",
        "def par_impar(numero):\n",
        "    if numero % 2 == 0:\n",
        "        return \"El número es par.\"\n",
        "    else:\n",
        "        return \"El número es impar.\"\n",
        "numero = int(input(\"Introduzca un número: \"))\n",
        "resultado = par_impar(numero)\n",
        "print(resultado)"
      ],
      "metadata": {
        "colab": {
          "base_uri": "https://localhost:8080/"
        },
        "id": "wzrLMHb7SCtd",
        "outputId": "acfe17c5-24ca-4f12-c55c-0cc4f1943a09"
      },
      "execution_count": 35,
      "outputs": [
        {
          "output_type": "stream",
          "name": "stdout",
          "text": [
            "Introduzca un número: 7\n",
            "El número es impar.\n"
          ]
        }
      ]
    }
  ]
}