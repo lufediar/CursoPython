{
  "nbformat": 4,
  "nbformat_minor": 0,
  "metadata": {
    "colab": {
      "provenance": [],
      "authorship_tag": "ABX9TyNX08FOpJj6q3BhoMWJaL01",
      "include_colab_link": true
    },
    "kernelspec": {
      "name": "python3",
      "display_name": "Python 3"
    },
    "language_info": {
      "name": "python"
    }
  },
  "cells": [
    {
      "cell_type": "markdown",
      "metadata": {
        "id": "view-in-github",
        "colab_type": "text"
      },
      "source": [
        "<a href=\"https://colab.research.google.com/github/lufediar/CursoPython/blob/main/Taller1_63527429.ipynb\" target=\"_parent\"><img src=\"https://colab.research.google.com/assets/colab-badge.svg\" alt=\"Open In Colab\"/></a>"
      ]
    },
    {
      "cell_type": "markdown",
      "source": [
        "**INTRODUCCIÓN A PYTHON**\n",
        "\n",
        "CURSO PYTHON\n",
        "\n",
        "UNICAFAM\n",
        "\n",
        "ESTUDIANTE: LUISA FERNANDA DÍAZ ARENAS\n",
        "\n",
        "DOCENTE: NICOLAS MOJICA\n",
        "\n",
        "\n",
        "\n",
        "---\n",
        "\n",
        "\n"
      ],
      "metadata": {
        "id": "x-36o8ArQICu"
      }
    },
    {
      "cell_type": "markdown",
      "source": [
        "**Taller de Introducción a Python: Ejercicios**\n",
        "\n",
        "**Ejercicio 1: Creación y Modificación de Listas**"
      ],
      "metadata": {
        "id": "YgPHXggMQ1PL"
      }
    },
    {
      "cell_type": "code",
      "source": [
        "#1. Crea una lista llamada números que contenga los números del 1 al 5.\n",
        "numeros = [1, 2, 3, 4, 5]\n",
        "print(numeros)"
      ],
      "metadata": {
        "colab": {
          "base_uri": "https://localhost:8080/"
        },
        "id": "fyKKUzmOQ4HD",
        "outputId": "d6a3afa8-4d4e-4138-c871-546092de68b6"
      },
      "execution_count": 2,
      "outputs": [
        {
          "output_type": "stream",
          "name": "stdout",
          "text": [
            "[1, 2, 3, 4, 5]\n"
          ]
        }
      ]
    },
    {
      "cell_type": "code",
      "source": [
        "#2. Añade el número 6 al final de la lista numeros.\n",
        "numeros.append(6)\n",
        "print(numeros)"
      ],
      "metadata": {
        "colab": {
          "base_uri": "https://localhost:8080/"
        },
        "id": "7uYEUjx8TUuX",
        "outputId": "7230322e-2566-482e-f35d-8367fa2f3dc1"
      },
      "execution_count": 3,
      "outputs": [
        {
          "output_type": "stream",
          "name": "stdout",
          "text": [
            "[1, 2, 3, 4, 5, 6]\n"
          ]
        }
      ]
    },
    {
      "cell_type": "code",
      "source": [
        "#3. Cambia el segundo elemento de la lista numeros a 10.\n",
        "numeros[1]=10\n",
        "print(numeros)"
      ],
      "metadata": {
        "colab": {
          "base_uri": "https://localhost:8080/"
        },
        "id": "LEdjHXYKUBzl",
        "outputId": "ad1c0c6f-0605-4873-f805-8c968ef67f47"
      },
      "execution_count": 7,
      "outputs": [
        {
          "output_type": "stream",
          "name": "stdout",
          "text": [
            "[1, 10, 3, 4, 5, 6]\n"
          ]
        }
      ]
    },
    {
      "cell_type": "code",
      "source": [
        "#4. Elimina el cuarto elemento de la lista numeros.\n",
        "del numeros[3]\n",
        "print(numeros)"
      ],
      "metadata": {
        "colab": {
          "base_uri": "https://localhost:8080/"
        },
        "id": "K5wCcxD6UtM3",
        "outputId": "0aa2002b-9bfc-4358-e502-6bce433efdb0"
      },
      "execution_count": 8,
      "outputs": [
        {
          "output_type": "stream",
          "name": "stdout",
          "text": [
            "[1, 10, 3, 5, 6]\n"
          ]
        }
      ]
    },
    {
      "cell_type": "markdown",
      "source": [
        "**Ejercicio 2: Creación de Tuplas**"
      ],
      "metadata": {
        "id": "sDcpHkKRVJzZ"
      }
    },
    {
      "cell_type": "code",
      "source": [
        "#1. Crea una tupla llamada colores que contenga los colores 'rojo', 'verde', y 'azul'\n",
        "colores=('rojo','verde','azul')\n",
        "print(colores)"
      ],
      "metadata": {
        "colab": {
          "base_uri": "https://localhost:8080/"
        },
        "id": "8racIvJvVNQ9",
        "outputId": "d55a7245-f952-47e5-ea30-3fc1edf8d2e7"
      },
      "execution_count": 9,
      "outputs": [
        {
          "output_type": "stream",
          "name": "stdout",
          "text": [
            "('rojo', 'verde', 'azul')\n"
          ]
        }
      ]
    },
    {
      "cell_type": "code",
      "source": [
        "#2. Accede al primer elemento de la tupla colores.\n",
        "primer_elemento=colores[0]\n",
        "print(primer_elemento)"
      ],
      "metadata": {
        "colab": {
          "base_uri": "https://localhost:8080/"
        },
        "id": "YHLqcEyCV-fi",
        "outputId": "27c9cf5a-1895-45bb-afb9-26cbea67f62f"
      },
      "execution_count": 10,
      "outputs": [
        {
          "output_type": "stream",
          "name": "stdout",
          "text": [
            "rojo\n"
          ]
        }
      ]
    },
    {
      "cell_type": "markdown",
      "source": [
        "**Ejercicio 4: Operadores Matemáticos**"
      ],
      "metadata": {
        "id": "_pNI_62jWeam"
      }
    },
    {
      "cell_type": "code",
      "source": [
        "from binascii import b2a_base64\n",
        "#1. Declara dos variables a y b con los valores 10 y 3, respectivamente\n",
        "a=10\n",
        "b=13\n",
        "\n",
        "#2. Calcula la suma de a y b y asígnala a una variable suma.\n",
        "suma=a+b\n",
        "print(suma)\n",
        "\n",
        "#3. Calcula la resta de a y b y asígnala a una variable resta.\n",
        "resta=a-b\n",
        "print(resta)\n",
        "\n",
        "#4. Calcula la multiplicación de a y b y asígnala a una variable multiplicacion.\n",
        "multiplicacion=a*b\n",
        "print(multiplicacion)\n",
        "\n",
        "#5. Calcula la división de a entre b y asígnala a una variable division.\n",
        "division=a/b\n",
        "print(division)\n",
        "\n",
        "#6. Calcula el módulo de a y b y asígnalo a una variable modulo.\n",
        "modulo=a%b\n",
        "print(modulo)\n",
        "\n",
        "#7. Calcula la potencia de a elevado a b y asígnala a una variable potencia.\n",
        "potencia=a**b\n",
        "print(potencia)\n",
        "\n",
        "#8. Calcula la división entera de a entre b y asígnala a una variable division_entera.\n",
        "division_entera=a//b\n",
        "print(division_entera)\n"
      ],
      "metadata": {
        "colab": {
          "base_uri": "https://localhost:8080/"
        },
        "id": "k--OYYn5Wh5i",
        "outputId": "d6b58e96-de96-406d-ac4f-97568c9c7414"
      },
      "execution_count": 11,
      "outputs": [
        {
          "output_type": "stream",
          "name": "stdout",
          "text": [
            "23\n",
            "-3\n",
            "130\n",
            "0.7692307692307693\n",
            "10\n",
            "10000000000000\n",
            "0\n"
          ]
        }
      ]
    },
    {
      "cell_type": "markdown",
      "source": [
        "**Ejercicio 5: Valores de Cadena**"
      ],
      "metadata": {
        "id": "VNc1-8WXYMuv"
      }
    },
    {
      "cell_type": "code",
      "source": [
        "#1. Declara una cadena llamada saludo con el valor \"Hola, mundo!\".\n",
        "saludo=\"Hola, mundo!\"\n",
        "print(saludo)\n",
        "\n",
        "#2. Accede y muestra el primer carácter de la cadena saludo.\n",
        "primer_caracter=saludo[0]\n",
        "print(primer_caracter)\n",
        "\n",
        "#3. Accede y muestra los últimos 5 caracteres de la cadena saludo.\n",
        "ultimos_5_caracteres=saludo[-5:]\n",
        "print(ultimos_5_caracteres)\n",
        "\n",
        "#4. Concatenar la cadena saludo con otra cadena \", ¿cómo estás?\" y asígnala a una nueva variable saludo_completo.\n",
        "saludo_completo= saludo+ \", ¿cómo estás?\"\n",
        "print(saludo_completo)\n",
        "\n",
        "#5. Convierte la cadena saludo_completo a mayúsculas y asígnala a una variable saludo_mayusculas.\n",
        "saludo_mayusculas=saludo_completo.upper()\n",
        "print(saludo_mayusculas)\n",
        "\n",
        "#6. Reemplaza la palabra \"mundo\" en saludo_completo por \"Python\" y asígnala a una variable saludo_reemplazo.\n",
        "saludo_reemplazo=saludo_completo.replace(\"mundo\", \"Python\")\n",
        "print(saludo_reemplazo)"
      ],
      "metadata": {
        "colab": {
          "base_uri": "https://localhost:8080/"
        },
        "id": "dMYApMxCYO1J",
        "outputId": "c7ec0768-6403-43ac-ae1d-37efc170279a"
      },
      "execution_count": 15,
      "outputs": [
        {
          "output_type": "stream",
          "name": "stdout",
          "text": [
            "Hola, mundo!\n",
            "H\n",
            "undo!\n",
            "Hola, mundo!, ¿cómo estás?\n",
            "HOLA, MUNDO!, ¿CÓMO ESTÁS?\n",
            "Hola, Python!, ¿cómo estás?\n"
          ]
        }
      ]
    }
  ]
}