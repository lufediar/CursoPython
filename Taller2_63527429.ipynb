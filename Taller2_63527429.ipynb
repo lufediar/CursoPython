{
  "nbformat": 4,
  "nbformat_minor": 0,
  "metadata": {
    "colab": {
      "provenance": [],
      "authorship_tag": "ABX9TyPG9r4ILaSWxJRFiD7HsW/V",
      "include_colab_link": true
    },
    "kernelspec": {
      "name": "python3",
      "display_name": "Python 3"
    },
    "language_info": {
      "name": "python"
    }
  },
  "cells": [
    {
      "cell_type": "markdown",
      "metadata": {
        "id": "view-in-github",
        "colab_type": "text"
      },
      "source": [
        "<a href=\"https://colab.research.google.com/github/lufediar/CursoPython/blob/main/Taller2_63527429.ipynb\" target=\"_parent\"><img src=\"https://colab.research.google.com/assets/colab-badge.svg\" alt=\"Open In Colab\"/></a>"
      ]
    },
    {
      "cell_type": "markdown",
      "source": [
        "**CONDICIONALES Y FUNCIONES**\n",
        "\n",
        "CURSO PYTHON\n",
        "\n",
        "UNICAFAM\n",
        "\n",
        "ESTUDIANTE: LUISA FERNANDA DÍAZ ARENAS\n",
        "\n",
        "DOCENTE: NICOLAS MOJICA\n",
        "\n",
        "\n",
        "\n",
        "---\n",
        "\n",
        "\n"
      ],
      "metadata": {
        "id": "YgRqz2hiV__D"
      }
    },
    {
      "cell_type": "markdown",
      "source": [
        "**Taller de Funciones**\n",
        "\n",
        "\n",
        "**1.Cálculo del salario neto:**\n"
      ],
      "metadata": {
        "id": "vbAkoucrWG-O"
      }
    },
    {
      "cell_type": "code",
      "source": [
        "#Crea una función llamada calcular_salario_neto que reciba como parámetros el salario bruto de un empleado y el porcentaje de impuestos. La función debe devolver el salario neto.\n",
        "#salario_neto=salario_bruto-deducciones\n",
        "\n",
        "def calcular_salario_neto(salario_bruto, porcentaje_impuestos):\n",
        "    impuestos = salario_bruto * (porcentaje_impuestos / 100)\n",
        "    salario_neto = salario_bruto - impuestos\n",
        "    return salario_neto\n",
        "salario_bruto = float(input(\"Introduzca el salario bruto: \"))\n",
        "porcentaje_impuestos = float(input(\"Introduzca el porcentaje de impuestos: \"))\n",
        "salario_neto = calcular_salario_neto(salario_bruto, porcentaje_impuestos)\n",
        "print(f\"El salario neto es: {salario_neto}\")"
      ],
      "metadata": {
        "colab": {
          "base_uri": "https://localhost:8080/"
        },
        "id": "NVD9USSEWBJ3",
        "outputId": "68455f86-7689-4052-c35d-e58ab438b6f8"
      },
      "execution_count": 8,
      "outputs": [
        {
          "output_type": "stream",
          "name": "stdout",
          "text": [
            "Introduzca el salario bruto: 5000000\n",
            "Introduzca el porcentaje de impuestos: 10\n",
            "El salario neto es: 4500000.0\n"
          ]
        }
      ]
    },
    {
      "cell_type": "markdown",
      "source": [
        "**2.Calcular el precio final con descuentos:**"
      ],
      "metadata": {
        "id": "RO2VyR9FcI-4"
      }
    },
    {
      "cell_type": "code",
      "source": [
        "#Diseña una función calcular_precio_final que reciba el precio de un producto y el porcentaje de descuento.\n",
        "\n",
        "def calcular_precio_final(precio_producto, porcentaje_descuento):\n",
        "    descuento = precio_producto * (porcentaje_descuento / 100)\n",
        "    precio_final = precio_producto - porcentaje_descuento\n",
        "    return precio_final\n",
        "precio_producto = float(input(\"Introduzca el precio de un producto: \"))\n",
        "porcentaje_descuento = float(input(\"Introduzca el porcentaje de descuento: \"))\n",
        "precio_final = calcular_precio_final(precio_producto, porcentaje_descuento)\n",
        "print(f\"El precio final del producto es: {precio_final}\")"
      ],
      "metadata": {
        "colab": {
          "base_uri": "https://localhost:8080/"
        },
        "id": "yaIe0U_BcL5x",
        "outputId": "1b392832-17c3-4a0f-c52f-b697afbe1d95"
      },
      "execution_count": 9,
      "outputs": [
        {
          "output_type": "stream",
          "name": "stdout",
          "text": [
            "Introduzca el precio de un producto: 50000\n",
            "Introduzca el porcentaje de descuento: 10\n",
            "El precio final del producto es: 49990.0\n"
          ]
        }
      ]
    },
    {
      "cell_type": "markdown",
      "source": [
        "**3.Simulación de envío de paquetes:**"
      ],
      "metadata": {
        "id": "1jr-fdEedhfs"
      }
    },
    {
      "cell_type": "code",
      "source": [
        "#Escribe una función calcular_costo_envio que reciba el peso de un paquete y la distancia de envío, y devuelva el costo según estas reglas:\n",
        "#Menos de 5 kg: $10 por cada 100 km.\n",
        "#Entre 5 y 20 kg: $15 por cada 100 km.\n",
        "#Más de 20 kg: $25 por cada 100 km.\n",
        "\n",
        "def calcular_costo_envio(peso_paquete, distancia_envio):\n",
        "    if peso_paquete < 5:\n",
        "        costo_por_100km = 10\n",
        "    elif 5 <= peso_paquete <= 20:\n",
        "        costo_por_100km = 15\n",
        "    else:\n",
        "        costo_por_100km = 25\n",
        "\n",
        "    costo_total = (distancia_envio / 100) * costo_por_100km\n",
        "    return costo_total\n",
        "\n",
        "peso_paquete = float(input(\"Introduzca el peso del paquete (kg): \"))\n",
        "distancia_envio = float(input(\"Introduzca la distancia de envío (km): \"))\n",
        "\n",
        "costo = calcular_costo_envio(peso_paquete, distancia_envio)\n",
        "\n",
        "print(f\"El costo de envío es: {costo}\")"
      ],
      "metadata": {
        "colab": {
          "base_uri": "https://localhost:8080/"
        },
        "id": "xa9PuSQKdnqp",
        "outputId": "a7dba73b-5ada-4e16-cdfd-b1c89567d0d1"
      },
      "execution_count": 19,
      "outputs": [
        {
          "output_type": "stream",
          "name": "stdout",
          "text": [
            "Introduzca el peso del paquete (kg): 20\n",
            "Introduzca la distancia de envío (km): 300\n",
            "El costo de envío es:45.0\n"
          ]
        }
      ]
    },
    {
      "cell_type": "markdown",
      "source": [
        "**4.Verificar si un cliente califica para un crédito:**"
      ],
      "metadata": {
        "id": "kC7Tyd98h5er"
      }
    },
    {
      "cell_type": "code",
      "source": [
        "#Crea una función calificar_credito que reciba el ingreso mensual y los gastos mensuales de una persona. Si el ahorro (ingreso - gastos) es mayor al 30% del ingreso, devuelve True. De lo contrario, devuelve False.\n",
        "\n",
        "def calificar_credito(ingreso_mensual, gastos_mensuales):\n",
        "    ahorro = ingreso_mensual - gastos_mensuales\n",
        "    if ahorro > 0.30 * ingreso_mensual:\n",
        "        return True\n",
        "    else:\n",
        "        return False\n",
        "ingreso = float(input(\"Introduce tu ingreso mensual: \"))\n",
        "gastos = float(input(\"Introduce tus gastos mensuales: \"))\n",
        "resultado = calificar_credito(ingreso, gastos)\n",
        "\n",
        "if resultado:\n",
        "    print(\"True. El ahorro es mayor al 30% de tu ingreso.\")\n",
        "else:\n",
        "    print(\"False. El ahorro no es mayor al 30% de tu ingreso.\")"
      ],
      "metadata": {
        "colab": {
          "base_uri": "https://localhost:8080/"
        },
        "id": "fFsYd95sh9h6",
        "outputId": "16ab9590-c3b6-499d-ef14-9a770a2bdc73"
      },
      "execution_count": 21,
      "outputs": [
        {
          "output_type": "stream",
          "name": "stdout",
          "text": [
            "Introduce tu ingreso mensual: 5000000\n",
            "Introduce tus gastos mensuales: 2300000\n",
            "True. El ahorro es mayor al 30% de tu ingreso.\n"
          ]
        }
      ]
    },
    {
      "cell_type": "markdown",
      "source": [
        "**5.Calcular el total de una factura:**"
      ],
      "metadata": {
        "id": "pK3dh3dojIGs"
      }
    },
    {
      "cell_type": "code",
      "source": [
        "#Diseña una función calcular_factura que reciba una lista de precios de productos y devuelva el total, incluyendo un impuesto del 16%.\n",
        "\n",
        "def calcular_factura(lista_precios):\n",
        "    total = sum(lista_precios)\n",
        "    impuesto = total * 0.16\n",
        "    total_factura = total + impuesto\n",
        "    return total\n",
        "precios = [35000, 17000, 3500, 45000]\n",
        "total = calcular_factura(precios)\n",
        "print(f\"El total de la factura, con impuesto del 16%, es: {total:}\")"
      ],
      "metadata": {
        "colab": {
          "base_uri": "https://localhost:8080/"
        },
        "id": "9ecNNiFQjLXv",
        "outputId": "aea73a32-c9b1-44f0-f627-7f5f161446f1"
      },
      "execution_count": 25,
      "outputs": [
        {
          "output_type": "stream",
          "name": "stdout",
          "text": [
            "El total de la factura, con impuesto del 16%, es: 100500\n"
          ]
        }
      ]
    },
    {
      "cell_type": "markdown",
      "source": [
        "**6.Generar un recibo de pago:**"
      ],
      "metadata": {
        "id": "Br0PPdD3kyXf"
      }
    },
    {
      "cell_type": "code",
      "source": [
        "#Escribe una función generar_recibo que reciba el nombre de un cliente, los productos comprados (como una lista de tuplas con nombre y precio), y devuelva un recibo en formato de texto con el total a pagar.\n",
        "\n",
        "\n"
      ],
      "metadata": {
        "id": "-bMGuVHmk0EY"
      },
      "execution_count": 28,
      "outputs": []
    },
    {
      "cell_type": "markdown",
      "source": [
        "**7.Cálculo de propinas en un restaurante:**"
      ],
      "metadata": {
        "id": "qvUbLJTUk1GM"
      }
    },
    {
      "cell_type": "code",
      "source": [
        "#Diseña una función calcular_propina que reciba el total de la cuenta y el porcentaje de propina que desea dejar el cliente. Devuelve el monto de la propina y el total a pagar.\n",
        "\n",
        "def calcular_propina(total_cuenta, porcentaje_propina):\n",
        "    monto_propina = total_cuenta * (porcentaje_propina / 100)\n",
        "    total_a_pagar = total_cuenta + monto_propina\n",
        "    return monto_propina, total_a_pagar\n",
        "total_cuenta = float(input(\"Introduzca el total de la cuenta: \"))\n",
        "porcentaje_propina = float(input(\"Introduzca el porcentaje de propina: \"))\n",
        "monto_propina, total_a_pagar = calcular_propina(total_cuenta, porcentaje_propina)\n",
        "print(f\"El monto de la propina es: {monto_propina:}\")\n",
        "print(f\"El total de la cuenta es: {total_a_pagar:}\")\n"
      ],
      "metadata": {
        "colab": {
          "base_uri": "https://localhost:8080/"
        },
        "id": "dKUtEzHhk4Vf",
        "outputId": "b7aa2f85-223e-46f2-d0ee-5a47fbf0eea4"
      },
      "execution_count": 29,
      "outputs": [
        {
          "output_type": "stream",
          "name": "stdout",
          "text": [
            "Introduzca el total de la cuenta: 105000\n",
            "Introduzca el porcentaje de propina: 10\n",
            "El monto de la propina es: 10500.0\n",
            "El total de la cuenta es: 115500.0\n"
          ]
        }
      ]
    },
    {
      "cell_type": "markdown",
      "source": [
        "**8.Calcular la disponibilidad de habitaciones en un hotel:**"
      ],
      "metadata": {
        "id": "Dih4UeX4k45J"
      }
    },
    {
      "cell_type": "code",
      "source": [
        "#Escribe una función verificar_disponibilidad que reciba el número de habitaciones disponibles y la cantidad de habitaciones requeridas. Devuelve un mensaje que indique si hay suficientes habitaciones o cuántas faltan.\n",
        "\n",
        "def verificar_disponibilidad(habitaciones_disponibles, habitaciones_requeridas):\n",
        "    if habitaciones_requeridas <= habitaciones_disponibles:\n",
        "        return f\"Hay suficientes habitaciones. Quedan {habitaciones_disponibles - habitaciones_requeridas} habitaciones disponibles.\"\n",
        "    else:\n",
        "        faltan = habitaciones_requeridas - habitaciones_disponibles\n",
        "        return f\"No hay suficientes habitaciones. Faltan {faltan} habitaciones.\"\n",
        "habitaciones_disponibles = int(input(\"Introduzca el número de habitaciones disponibles: \"))\n",
        "habitaciones_requeridas = int(input(\"Introduzca la cantidad de habitaciones requeridas: \"))\n",
        "mensaje = verificar_disponibilidad(habitaciones_disponibles, habitaciones_requeridas)\n",
        "print(mensaje)"
      ],
      "metadata": {
        "colab": {
          "base_uri": "https://localhost:8080/"
        },
        "id": "8PQGzBAVk9Nu",
        "outputId": "f83b86fa-69ae-4774-f983-862d3f200c21"
      },
      "execution_count": 30,
      "outputs": [
        {
          "output_type": "stream",
          "name": "stdout",
          "text": [
            "Introduzca el número de habitaciones disponibles: 10\n",
            "Introduzca la cantidad de habitaciones requeridas: 12\n",
            "No hay suficientes habitaciones. Faltan 2 habitaciones.\n"
          ]
        }
      ]
    },
    {
      "cell_type": "markdown",
      "source": [
        "**9.Sistema de evaluación de empleados:**"
      ],
      "metadata": {
        "id": "a7KTcrKOk9sQ"
      }
    },
    {
      "cell_type": "code",
      "source": [
        "#Crea una función evaluar_empleado que reciba el nombre del empleado, su puntuación en tres categorías (por ejemplo, productividad, puntualidad y trabajo en equipo) y devuelva una calificación final promedio con un mensaje:\n",
        "#\"Sobresaliente\" si es mayor a 90.\n",
        "#\"Bueno\" si está entre 70 y 89.\n",
        "#\"Mejorable\" si es menor a 70\n",
        "\n",
        "def evaluar_empleado(nombre_empleado, productividad, puntualidad, trabajo_en_equipo):\n",
        "    puntuacion = (productividad + puntualidad + trabajo_en_equipo) / 3\n",
        "    if puntuacion > 90:\n",
        "        calificacion = \"Sobresaliente\"\n",
        "    elif puntuacion >= 70:\n",
        "        calificacion = \"Bueno\"\n",
        "    else:\n",
        "        calificacion = \"Mejorable\"\n",
        "    return f\"Empleado: {nombre_empleado}, Promedio: {puntuacion:}, Calificación: {calificacion}\"\n",
        "\n",
        "nombre_empleado = input(\"Introduzca el nombre del empleado: \")\n",
        "\n",
        "productividad = float(input(\"Puntuación en Productividad: \"))\n",
        "puntualidad = float(input(\"Puntuación en Puntualidad: \"))\n",
        "trabajo_en_equipo = float(input(\"Puntuación en Trabajo en Equipo: \"))\n",
        "resultado = evaluar_empleado(nombre_empleado, productividad, puntualidad, trabajo_en_equipo)\n",
        "print(resultado)\n"
      ],
      "metadata": {
        "colab": {
          "base_uri": "https://localhost:8080/"
        },
        "id": "nmOdnpMBlB5H",
        "outputId": "ba8cf262-44da-4b83-9581-83578dc22cc9"
      },
      "execution_count": 33,
      "outputs": [
        {
          "output_type": "stream",
          "name": "stdout",
          "text": [
            "Introduzca el nombre del empleado: Jorge Ocampo\n",
            "Puntuación en Productividad: 100\n",
            "Puntuación en Puntualidad: 98\n",
            "Puntuación en Trabajo en Equipo: 95\n",
            "Empleado: Jorge Ocampo, Promedio: 97.66666666666667, Calificación: Sobresaliente\n"
          ]
        }
      ]
    }
  ]
}