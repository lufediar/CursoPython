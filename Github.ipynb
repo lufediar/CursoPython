{
  "nbformat": 4,
  "nbformat_minor": 0,
  "metadata": {
    "colab": {
      "provenance": []
    },
    "kernelspec": {
      "name": "python3",
      "display_name": "Python 3"
    },
    "language_info": {
      "name": "python"
    }
  },
  "cells": [
    {
      "cell_type": "markdown",
      "source": [
        "Esto es una prueba"
      ],
      "metadata": {
        "id": "m3qvJdYBAHv_"
      }
    },
    {
      "cell_type": "code",
      "execution_count": null,
      "metadata": {
        "id": "UJBwn2ng73R7"
      },
      "outputs": [],
      "source": []
    }
  ]
}