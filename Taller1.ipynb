{
  "nbformat": 4,
  "nbformat_minor": 0,
  "metadata": {
    "colab": {
      "provenance": [],
      "authorship_tag": "ABX9TyMrO34ELnpzEEVS3pl0O8gc",
      "include_colab_link": true
    },
    "kernelspec": {
      "name": "python3",
      "display_name": "Python 3"
    },
    "language_info": {
      "name": "python"
    }
  },
  "cells": [
    {
      "cell_type": "markdown",
      "metadata": {
        "id": "view-in-github",
        "colab_type": "text"
      },
      "source": [
        "<a href=\"https://colab.research.google.com/github/lufediar/CursoPython/blob/main/Taller1.ipynb\" target=\"_parent\"><img src=\"https://colab.research.google.com/assets/colab-badge.svg\" alt=\"Open In Colab\"/></a>"
      ]
    },
    {
      "cell_type": "markdown",
      "source": [
        "**INTRODUCCIÓN A PYTHON**\n",
        "\n",
        "CURSO PYTHON\n",
        "\n",
        "UNICAFAM\n",
        "\n",
        "ESTUDIANTE: LUISA FERNANDA DÍAZ ARENAS\n",
        "\n",
        "DOCENTE: NICOLAS MOJICA\n",
        "\n",
        "\n",
        "\n",
        "---\n",
        "\n",
        "\n"
      ],
      "metadata": {
        "id": "x-36o8ArQICu"
      }
    },
    {
      "cell_type": "code",
      "source": [],
      "metadata": {
        "id": "HQAsuWPkQJdi"
      },
      "execution_count": null,
      "outputs": []
    }
  ]
}