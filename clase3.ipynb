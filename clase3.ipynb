{
  "nbformat": 4,
  "nbformat_minor": 0,
  "metadata": {
    "colab": {
      "provenance": [],
      "authorship_tag": "ABX9TyP9WNhSRx5o6KHOUKb1QY0X",
      "include_colab_link": true
    },
    "kernelspec": {
      "name": "python3",
      "display_name": "Python 3"
    },
    "language_info": {
      "name": "python"
    }
  },
  "cells": [
    {
      "cell_type": "markdown",
      "metadata": {
        "id": "view-in-github",
        "colab_type": "text"
      },
      "source": [
        "<a href=\"https://colab.research.google.com/github/lufediar/CursoPython/blob/main/clase3.ipynb\" target=\"_parent\"><img src=\"https://colab.research.google.com/assets/colab-badge.svg\" alt=\"Open In Colab\"/></a>"
      ]
    },
    {
      "cell_type": "code",
      "execution_count": null,
      "metadata": {
        "id": "soF8GOv0Hu0B"
      },
      "outputs": [],
      "source": []
    },
    {
      "cell_type": "markdown",
      "source": [
        "**MANEJO DE ERRORES, CICLOS Y BUCLES**\n",
        "\n",
        "CURSO PYTHON\n",
        "\n",
        "UNICAFAM\n",
        "\n",
        "ESTUDIANTE: LUISA FERNANDA DÍAZ ARENAS\n",
        "\n",
        "DOCENTE: NICOLAS MOJICA\n",
        "\n",
        "\n",
        "\n",
        "---\n",
        "\n",
        "\n"
      ],
      "metadata": {
        "id": "k9SQMcFVHw3j"
      }
    },
    {
      "cell_type": "markdown",
      "source": [
        "# **MANEJO DE ERRORES**\n",
        "En Python, el manejo de errores se realiza utilizando el bloque try-except. Este bloque permite capturar y manejar excepciones (errores) que puedan ocurrir durante la ejecución de tu código. Aquí te muestro cómo funciona:\n",
        "\n",
        "\n",
        "**Tipos de Errores:**\n",
        "\n",
        "- SyntaxError: Error de sintaxis en el código.\n",
        "- TypeError: Operación o función aplicada a un tipo inapropiado.\n",
        "- ValueError: Argumento con el tipo correcto pero valor inapropiado.\n",
        "- IndexError: Índice fuera del rango de una lista o secuencia.\n",
        "- KeyError: Clave que no existe en un diccionario.\n",
        "- FileNotFoundError: Archivo no encontrado.\n",
        "- ZeroDivisionError: División por cero.\n",
        "- IOError: Problema de entrada/salida al leer o escribir archivos.\n",
        "- AttributeError: Atributo que no existe en un objeto.\n",
        "- ImportError: Módulo no encontrado al intentar importarlo.\n",
        "- MemoryError: Agotamiento de memoria.\n",
        "- OverflowError: Operación que excede el rango numérico."
      ],
      "metadata": {
        "id": "rPKbSq42H-bj"
      }
    },
    {
      "cell_type": "code",
      "source": [
        "#GENERAR FUNCIÓN QUE DIVIDA 2 NUMEROS\n",
        "\n",
        "a=int(input(\"Ingresar número:\"))\n",
        "b=int(input(\"Ingresar segundo número:\"))\n",
        "\n",
        "try:\n",
        "  def division(a,b):\n",
        "    c=a/b\n",
        "    return print(c)\n",
        "  division(a,b)\n",
        "except ZeroDivisionError:               #ERROR DE DIVISIÓN X 0 - EN EXCEPT SE DECLARA UN ERROR\n",
        "  print(\"No se puede dividir 0/0\")"
      ],
      "metadata": {
        "colab": {
          "base_uri": "https://localhost:8080/"
        },
        "id": "hNlbp6r8IIPx",
        "outputId": "35bf50ce-ef8a-462e-c360-6cb28044e4b2"
      },
      "execution_count": 15,
      "outputs": [
        {
          "output_type": "stream",
          "name": "stdout",
          "text": [
            "Ingresar número:0\n",
            "Ingresar segundo número:0\n",
            "No se puede dividir 0/0\n"
          ]
        }
      ]
    },
    {
      "cell_type": "code",
      "source": [
        "try:\n",
        "  def division(a,b):\n",
        "    c=a/b\n",
        "    return print(c)\n",
        "  division(a,b)\n",
        "except Exception as e:               #MOSTRAR UN MENSAJE CON EL ERORR QUE SE DETECTÓ\n",
        "  print(f\"Se produjo una excepción por el error: {e}\")"
      ],
      "metadata": {
        "colab": {
          "base_uri": "https://localhost:8080/"
        },
        "id": "_CqunNI-OrPw",
        "outputId": "125cb705-4d20-43b6-b4d2-1386b6b7d673"
      },
      "execution_count": 14,
      "outputs": [
        {
          "output_type": "stream",
          "name": "stdout",
          "text": [
            "Se produjo una excepción por el error: division by zero\n"
          ]
        }
      ]
    },
    {
      "cell_type": "markdown",
      "source": [
        "**CICLOS Y BUCLES**"
      ],
      "metadata": {
        "id": "lFqdGk1PRIT8"
      }
    },
    {
      "cell_type": "code",
      "source": [
        "#IMPRIMIR TODOS LOS NUMEROS QUE SE ENCUENTRAN EN UNA LISTA\n",
        "#for ES LA SENTENCIA QUE ME PERMITE GENERAR UN BUCLE SOBRE UN CONJUNTO DE DATOS FINITO COMO UNA LISTA O TUPLA\n",
        "\n",
        "numeros=[1,2,3,4,5]\n",
        "for num in numeros:\n",
        "  c=num+1        #+= es una asignación compuesta - la variable toma el nuevo valor el bucle se puede hacer de 2 formas num+=1 o c=num+1\n",
        "  print(c)"
      ],
      "metadata": {
        "colab": {
          "base_uri": "https://localhost:8080/"
        },
        "id": "BVfO2_LHRM9P",
        "outputId": "0008ee30-c069-46ed-bfa6-052641c052ed"
      },
      "execution_count": 18,
      "outputs": [
        {
          "output_type": "stream",
          "name": "stdout",
          "text": [
            "2\n",
            "3\n",
            "4\n",
            "5\n",
            "6\n"
          ]
        }
      ]
    },
    {
      "cell_type": "code",
      "source": [
        "#IMPRIMIR LOS NUMEROS DEL 1 AL 10\n",
        "\n",
        "for num in range(10):\n",
        "  if num>5:\n",
        "    break   #Deje de ejecutar el bucle si se cumple con la condición\n",
        "  else:\n",
        "    print(num)"
      ],
      "metadata": {
        "colab": {
          "base_uri": "https://localhost:8080/"
        },
        "id": "l1xQKFYOVXBQ",
        "outputId": "dc6e0295-8ba2-4dd3-efba-a26597468fe2"
      },
      "execution_count": 20,
      "outputs": [
        {
          "output_type": "stream",
          "name": "stdout",
          "text": [
            "0\n",
            "1\n",
            "2\n",
            "3\n",
            "4\n",
            "5\n"
          ]
        }
      ]
    },
    {
      "cell_type": "code",
      "source": [
        "#GENERAR UN CICLO QUE SAQUE LA EXPONENCIACIÓN 2 DE UNA LISTA DE 7 NÚMEROS\n",
        "\n",
        "numeros=[2,4,6,8,0,7,1]\n",
        "for num in numeros:\n",
        "  c=num**2\n",
        "  print(c)"
      ],
      "metadata": {
        "colab": {
          "base_uri": "https://localhost:8080/"
        },
        "id": "RhbO4q6QWNvT",
        "outputId": "791cb868-e5b9-4317-ddf5-932e0f5e9a3d"
      },
      "execution_count": 22,
      "outputs": [
        {
          "output_type": "stream",
          "name": "stdout",
          "text": [
            "4\n",
            "16\n",
            "36\n",
            "64\n",
            "0\n",
            "49\n",
            "1\n"
          ]
        }
      ]
    },
    {
      "cell_type": "code",
      "source": [
        "#DE UNA LISTA DE PRECIOS DADA, CALCULE UN DESCUENTO DEL 10% PARA CADA PRECIO Y AÑADALOS A UNA NUEVA LISTA\n",
        "\n",
        "precios_actuales=[250,500,750,1000,350,400]\n",
        "precios_descuentos=[]\n",
        "for precio in precios_actuales:\n",
        "  nuevo_precio=precio*0.1\n",
        "  precios_descuentos.append(nuevo_precio)   #append\n",
        "\n",
        "print(precios_descuentos)"
      ],
      "metadata": {
        "colab": {
          "base_uri": "https://localhost:8080/"
        },
        "id": "QJ7NnmO1Xr7J",
        "outputId": "7cb52e45-e0cc-4d37-eeea-2388afa9da42"
      },
      "execution_count": 25,
      "outputs": [
        {
          "output_type": "stream",
          "name": "stdout",
          "text": [
            "[25.0, 50.0, 75.0, 100.0, 35.0, 40.0]\n"
          ]
        }
      ]
    },
    {
      "cell_type": "code",
      "source": [
        "#IMPRIMIR UN CONTADOR\n",
        "\n",
        "contador=0\n",
        "while contador<5:\n",
        "    print(contador)\n",
        "    contador+=1"
      ],
      "metadata": {
        "colab": {
          "base_uri": "https://localhost:8080/"
        },
        "id": "atUzqj0lZgLL",
        "outputId": "79d5bee1-57e9-4ed3-c43f-14e4a8d887f3"
      },
      "execution_count": 31,
      "outputs": [
        {
          "output_type": "stream",
          "name": "stdout",
          "text": [
            "0\n",
            "1\n",
            "2\n",
            "3\n",
            "4\n"
          ]
        }
      ]
    },
    {
      "cell_type": "code",
      "source": [
        "#GENERAR UN PROGRAMA QUE PERMITA 3 INTENTOS DE CONTRASEÑA\n",
        "\n",
        "clave_correcta=\"secreta123\"\n",
        "intentos=3\n",
        "while intentos>0:\n",
        "  clave_usuario=input(\"Ingresar contraseña:\")\n",
        "  if clave_usuario==clave_correcta:\n",
        "    print(\"Acceso concedido\")\n",
        "    break   #Si el acceso es correcto se debe detener y preguntar mas la clave al usuario\n",
        "  else:\n",
        "    intentos-=1\n",
        "    print(f\"Contraseña incorrecta, te quedan {intentos} intentos\")     #impresion compuesta entre variables para combinar un mensaje (Contraseña incorrecta....) y una variabe (intentos)\n",
        "if intentos==0:\n",
        "    print(\"Has excedido en numero de intentos\")\n"
      ],
      "metadata": {
        "colab": {
          "base_uri": "https://localhost:8080/"
        },
        "id": "WQo7zTigazMn",
        "outputId": "97c3cb92-5e7b-4dca-81e9-6baed9829bc0"
      },
      "execution_count": 38,
      "outputs": [
        {
          "output_type": "stream",
          "name": "stdout",
          "text": [
            "Ingresar contraseña:secr123\n",
            "Contraseña incorrecta, te quedan 2 intentos\n",
            "Ingresar contraseña:scsrt22\n",
            "Contraseña incorrecta, te quedan 1 intentos\n",
            "Ingresar contraseña:secreta123\n",
            "Acceso concedido\n"
          ]
        }
      ]
    },
    {
      "cell_type": "markdown",
      "source": [
        "**Ejercicio:**\n",
        "\n",
        "Escribe un programa que permita al usuario adivinar un número secreto entre 1 y 10. El programa debe seguir pidiendo al usuario que adivine hasta que acierte.\n",
        "\n",
        "**Instrucciones:**\n",
        "\n",
        "Define un número secreto.\n",
        "\n",
        "Utiliza un bucle while para seguir solicitando adivinanzas al usuario hasta que acierte.\n",
        "\n",
        "Si el usuario adivina el número, imprime un mensaje de felicitación y termina el programa."
      ],
      "metadata": {
        "id": "zGc27rWpeEjV"
      }
    },
    {
      "cell_type": "code",
      "source": [
        "numero_secreto=9\n",
        "while numero_secreto==9:\n",
        "  numero_usuario=int(input(\"Ingresar un numero:\"))\n",
        "  if numero_usuario==numero_secreto:\n",
        "    print(\"!Felicitaciones¡ Has adivinado el numero secreto\")\n",
        "    break\n",
        "  else:\n",
        "    print(\"Intentalo una vez mas\")\n"
      ],
      "metadata": {
        "colab": {
          "base_uri": "https://localhost:8080/"
        },
        "id": "2MVPCgCReGip",
        "outputId": "93175212-288a-45d8-b045-23ecbbb96b28"
      },
      "execution_count": 51,
      "outputs": [
        {
          "output_type": "stream",
          "name": "stdout",
          "text": [
            "Ingresar un numero:5\n",
            "Intentalo una vez mas\n",
            "Ingresar un numero:9\n",
            "!Felicitaciones¡ Has adivinado el numero secreto\n"
          ]
        }
      ]
    },
    {
      "cell_type": "markdown",
      "source": [
        "**Ejercicio 3: Tabla de Multiplicar (Bucle for y while)**\n",
        "\n",
        "**Descripción:**\n",
        "\n",
        "Escribe un programa que genere la tabla de multiplicar de un número ingresado por el usuario. El programa debe continuar pidiendo un número hasta que el usuario ingrese 0.\n",
        "\n",
        "**Instrucciones:**\n",
        "\n",
        "Utiliza un bucle while para pedir un número al usuario.\n",
        "\n",
        "Si el número es diferente de 0, usa un bucle for para imprimir la tabla de multiplicar de ese número.\n",
        "\n",
        "Si el usuario ingresa 0, termina el programa.\n",
        "tiene menú contextual"
      ],
      "metadata": {
        "id": "q0AO1b7kji8X"
      }
    },
    {
      "cell_type": "code",
      "source": [
        "while numero_usuario!=0:\n",
        "  numero_usuario=int(input(\"Ingresar un numero:\"))\n",
        "  if numero_usuario==0:\n",
        "    print(\"Has ingresado 0, programa finalizado\")\n",
        "    break\n",
        "  else:\n",
        "   for numero in range(10):\n",
        "     print(f\"{numero_usuario}*{numero}={numero_usuario*numero}\")"
      ],
      "metadata": {
        "id": "mAKTBFz2jk47"
      },
      "execution_count": null,
      "outputs": []
    }
  ]
}