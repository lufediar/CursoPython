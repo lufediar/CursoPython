{
  "nbformat": 4,
  "nbformat_minor": 0,
  "metadata": {
    "colab": {
      "provenance": [],
      "authorship_tag": "ABX9TyO8SKeeuQgZMInJWfHH+KCy",
      "include_colab_link": true
    },
    "kernelspec": {
      "name": "python3",
      "display_name": "Python 3"
    },
    "language_info": {
      "name": "python"
    }
  },
  "cells": [
    {
      "cell_type": "markdown",
      "metadata": {
        "id": "view-in-github",
        "colab_type": "text"
      },
      "source": [
        "<a href=\"https://colab.research.google.com/github/lufediar/CursoPython/blob/main/Clase1.ipynb\" target=\"_parent\"><img src=\"https://colab.research.google.com/assets/colab-badge.svg\" alt=\"Open In Colab\"/></a>"
      ]
    },
    {
      "cell_type": "markdown",
      "source": [
        "**INTRODUCCIÓN A PYTHON**\n",
        "\n",
        "CURSO PYTHON\n",
        "\n",
        "UNICAFAM\n",
        "\n",
        "ESTUDIANTE: LUISA FERNANDA DÍAZ ARENAS\n",
        "\n",
        "DOCENTE: NICOLAS MOJICA\n",
        "\n",
        "\n",
        "\n",
        "---\n",
        "\n",
        "\n"
      ],
      "metadata": {
        "id": "m3qvJdYBAHv_"
      }
    },
    {
      "cell_type": "code",
      "execution_count": null,
      "metadata": {
        "colab": {
          "base_uri": "https://localhost:8080/"
        },
        "id": "UJBwn2ng73R7",
        "outputId": "c6fcb4cc-e006-467a-8450-ac1ae4fef90f"
      },
      "outputs": [
        {
          "output_type": "stream",
          "name": "stdout",
          "text": [
            "Hola mundo\n"
          ]
        }
      ],
      "source": [
        "# PARA PODER HACER COMENTARIOS DEBO USAR #\n",
        "print(\"Hola mundo\")"
      ]
    },
    {
      "cell_type": "code",
      "source": [
        "#PARA INSERTAR COMENTARIOS DE MÁS DE DOS LÍNEAS SE USA \"\"\n",
        "\"\"\"\n",
        "Este es\n",
        "un comentario\n",
        "de varias líneas\n",
        "\"\"\"\n",
        "print(\"Hola mundo\")"
      ],
      "metadata": {
        "colab": {
          "base_uri": "https://localhost:8080/"
        },
        "id": "TbXZK0oGEU-7",
        "outputId": "a3db5f33-0a3c-4fb0-b1e8-47ec1150af04"
      },
      "execution_count": null,
      "outputs": [
        {
          "output_type": "stream",
          "name": "stdout",
          "text": [
            "Hola mundo\n"
          ]
        }
      ]
    },
    {
      "cell_type": "markdown",
      "source": [
        "**VARIABLES**"
      ],
      "metadata": {
        "id": "MN_nRmXLFGaN"
      }
    },
    {
      "cell_type": "code",
      "source": [
        "#UNA VARIABLE SOLO SE DEBE NOMBRAR SIN CARÁCTERES ESPECIALES, SIN ESPACIOS Y SIN MINUSCULAS\n",
        "var=\"Hola mundo\"\n",
        "print(var)"
      ],
      "metadata": {
        "colab": {
          "base_uri": "https://localhost:8080/"
        },
        "id": "9Ot_lc8HF9N1",
        "outputId": "ff88f825-b376-46f5-d507-2fa7e72ffb0a"
      },
      "execution_count": null,
      "outputs": [
        {
          "output_type": "stream",
          "name": "stdout",
          "text": [
            "Hola mundo\n"
          ]
        }
      ]
    },
    {
      "cell_type": "code",
      "source": [
        "#var=\"Adios mundo\"\n",
        "print(var)"
      ],
      "metadata": {
        "colab": {
          "base_uri": "https://localhost:8080/"
        },
        "id": "ol5vxndLGVPe",
        "outputId": "e82e3c6c-b2ea-42e0-e158-fa92af9b4934"
      },
      "execution_count": null,
      "outputs": [
        {
          "output_type": "stream",
          "name": "stdout",
          "text": [
            "Hola mundo\n"
          ]
        }
      ]
    },
    {
      "cell_type": "markdown",
      "source": [
        "**TIPOS DE DATOS**"
      ],
      "metadata": {
        "id": "g447SyM0G3Su"
      }
    },
    {
      "cell_type": "code",
      "source": [
        "entero=42\n",
        "flotante=3.14159\n",
        "\n",
        "#CONVERSIÓN DE TIPOS DE DATOS\n",
        "entero=int(3.14159)#LA RESPUESTA ES 3\n",
        "flotante=float(5)#LA RESPUESTA ES 5.0"
      ],
      "metadata": {
        "id": "O1OugBQkG6yf"
      },
      "execution_count": null,
      "outputs": []
    },
    {
      "cell_type": "markdown",
      "source": [
        "**OPERADORES MATEMÁTICOS**"
      ],
      "metadata": {
        "id": "yW-VJiS27JLM"
      }
    },
    {
      "cell_type": "code",
      "source": [
        "a=2\n",
        "b=4\n",
        "\n",
        "#SUMA\n",
        "print(a+b)#RESULTADO ES = 6\n",
        "\n",
        "#RESTA\n",
        "print(b-a)#RESULTADO ES = 2\n",
        "\n",
        "#DIVISIÓN\n",
        "c=b/a#RESULTADO = 2\n",
        "print(c)\n",
        "\n",
        "#DICISIÓN ENTERA (No deja residuos)\n",
        "d=3\n",
        "print(d//a)\n",
        "\n",
        "#EXPONENCIACIÓN\n",
        "print(a**5)\n",
        "\n",
        "#MÓDULO (Residuo dentro de una división)\n",
        "print(b%a)\n",
        "\n",
        "#ASIGNACIÓN COMPUESTA (variable a sumele b y asignele el valor a b)\n",
        "a+=b\n",
        "print(a)\n",
        "a=2\n",
        "\n",
        "#REDONDEO\n",
        "e=3.14159\n",
        "print(round(e,2))\n",
        "\n",
        "#VALOR ABSOLUTO\n",
        "f=a-b\n",
        "print(abs(f))"
      ],
      "metadata": {
        "colab": {
          "base_uri": "https://localhost:8080/"
        },
        "id": "cQPvGuae7OjR",
        "outputId": "b5f52198-4abb-4953-8ed3-d7f2f9d693d6"
      },
      "execution_count": null,
      "outputs": [
        {
          "output_type": "stream",
          "name": "stdout",
          "text": [
            "6\n",
            "2\n",
            "2.0\n",
            "1\n",
            "32\n",
            "0\n",
            "6\n",
            "3.14\n",
            "2\n"
          ]
        }
      ]
    },
    {
      "cell_type": "markdown",
      "source": [
        "**VALORES STRING**"
      ],
      "metadata": {
        "id": "9NdJ6Qly_gZ4"
      }
    },
    {
      "cell_type": "code",
      "source": [
        "#CONCATENACIÓN DE CARÁCTERES\n",
        "saludo='Hola'\n",
        "nombre='Mundo'\n",
        "mensaje= saludo+ \" , \" + nombre\n",
        "print(mensaje)"
      ],
      "metadata": {
        "colab": {
          "base_uri": "https://localhost:8080/"
        },
        "id": "aNo7ZaIf_n_D",
        "outputId": "f1fb033e-9c6c-411d-f8cc-7d9a3ae7f91e"
      },
      "execution_count": null,
      "outputs": [
        {
          "output_type": "stream",
          "name": "stdout",
          "text": [
            "Hola , Mundo\n"
          ]
        }
      ]
    },
    {
      "cell_type": "code",
      "source": [
        "#REPETICIÓN DE CARÁCTERES\n",
        "repetido=saludo*3\n",
        "print(repetido)"
      ],
      "metadata": {
        "colab": {
          "base_uri": "https://localhost:8080/"
        },
        "id": "QVjfvBPhAlCu",
        "outputId": "e10671bc-a510-45e9-d376-b2fd6cdfcc0a"
      },
      "execution_count": null,
      "outputs": [
        {
          "output_type": "stream",
          "name": "stdout",
          "text": [
            "HolaHolaHola\n"
          ]
        }
      ]
    },
    {
      "cell_type": "code",
      "source": [
        "#GENERE UNA NUEVA VARIABLE DONDE EXTRAIGA LA VARIABLE HOLA\n",
        "subcadena=mensaje[0:4]\n",
        "print(subcadena)\n",
        "\n",
        "#GENERE UNA NUEVA VARIABLE DONDE EXTRAIGA LA VARIABLE HOLA\n",
        "subcadena=mensaje[0:4]\n",
        "print(subcadena)"
      ],
      "metadata": {
        "colab": {
          "base_uri": "https://localhost:8080/"
        },
        "id": "_Qv_aZwdDYoz",
        "outputId": "82c14db2-b102-488a-9e06-433c393ae78c"
      },
      "execution_count": null,
      "outputs": [
        {
          "output_type": "stream",
          "name": "stdout",
          "text": [
            "Hola\n",
            "Hola\n"
          ]
        }
      ]
    },
    {
      "cell_type": "code",
      "source": [
        "#MÉTODOS DE CADENAS\n",
        "#MAYÚSCULAS\n",
        "cadena='Python es genial'\n",
        "print(cadena.upper())\n",
        "\n",
        "#MINUSCULAS\n",
        "print(cadena.lower())\n",
        "\n",
        "#REMPLAZO\n",
        "print(cadena.replace(\"genial\",\"increible\"))\n",
        "\n",
        "#SEPARAR\n",
        "print(cadena.split(\" \"))\n",
        "\n",
        "print(cadena[0])\n",
        "cadena_separado=cadena.split(\" \")\n",
        "print(cadena_separado[0])"
      ],
      "metadata": {
        "colab": {
          "base_uri": "https://localhost:8080/"
        },
        "id": "rAVgW4pbDpze",
        "outputId": "c768f645-a9cd-4604-f02f-f261ea904c6b"
      },
      "execution_count": null,
      "outputs": [
        {
          "output_type": "stream",
          "name": "stdout",
          "text": [
            "PYTHON ES GENIAL\n",
            "python es genial\n",
            "Python es increible\n",
            "['Python', 'es', 'genial']\n",
            "P\n",
            "Python\n"
          ]
        }
      ]
    },
    {
      "cell_type": "markdown",
      "source": [
        "**ESTRUCTURA DE DATOS**"
      ],
      "metadata": {
        "id": "n6T3Cfa_E6jp"
      }
    },
    {
      "cell_type": "code",
      "source": [
        "#LAS LISTAS SON LAS ESTRUCTURAS DE DATOS EN PYTHON MAS USADOS POR SU FLEXIBILIDAD Y FACILIDAD\n",
        "lista = [1, 2, 3, \"cuatro\", 5.0]\n",
        "#MODIFICAR ELEMENTOS DE LA LISTA\n",
        "lista[3]=4\n",
        "print(lista)\n",
        "\n",
        "#REMOVER ELEMENTOS DE UNA LISTA\n",
        "lista.remove(5.0)\n",
        "print(lista)"
      ],
      "metadata": {
        "colab": {
          "base_uri": "https://localhost:8080/"
        },
        "id": "adsqO1W7E9jf",
        "outputId": "e071e1e7-0ee6-4b9f-a59a-7d59f45b63ac"
      },
      "execution_count": 1,
      "outputs": [
        {
          "output_type": "stream",
          "name": "stdout",
          "text": [
            "[1, 2, 3, 4, 5.0]\n",
            "[1, 2, 3, 4]\n"
          ]
        }
      ]
    },
    {
      "cell_type": "markdown",
      "source": [
        "**DICCIONARIOS DE DATOS**"
      ],
      "metadata": {
        "id": "BU93h7Pa8_SV"
      }
    },
    {
      "cell_type": "code",
      "source": [
        "#LOS DICCIONARIOS SE IDENTIFICAN CON EL INICIO Y CIERRE DE {} Y LA VARIABLE CONTENIDA DENTRO DE LA ETIQUETA DE LA VARIABLE\n",
        "mi_diccionario={\n",
        "   \"nombre\":\"Luisa Díaz\",\n",
        "   \"edad\": 40,\n",
        "   \"ciudad\": \"Bogotá\"\n",
        "\n",
        "}\n",
        "\n",
        "#LLAMAR LA VARIABLE NOMBRE\n",
        "print(mi_diccionario[\"nombre\"])\n",
        "\n",
        "#MODIFICACION DE DICCIONARIOS\n",
        "mi_diccionario[\"nombre\"]=\"Jorge Ocampo\"\n",
        "print(mi_diccionario)\n",
        "\n",
        "#AÑADIR ELEMENTO EN EL DICCIONARIO\n",
        "mi_diccionario[\"profesion\"]=\"Ingeniera de sistemas\"\n",
        "\n",
        "#ELIMINAR ELEMENTO EN EL DICCIONARIO\n",
        "del mi_diccionario[\"edad\"]\n",
        "print(mi_diccionario)\n"
      ],
      "metadata": {
        "colab": {
          "base_uri": "https://localhost:8080/"
        },
        "id": "H2N2RWLh9Cd7",
        "outputId": "711b1857-28dc-43de-ec67-be7c5c3f97c0"
      },
      "execution_count": 9,
      "outputs": [
        {
          "output_type": "stream",
          "name": "stdout",
          "text": [
            "Luisa Díaz\n",
            "{'nombre': 'Jorge Ocampo', 'edad': 40, 'ciudad': 'Bogotá'}\n",
            "{'nombre': 'Jorge Ocampo', 'ciudad': 'Bogotá', 'profesion': 'Ingeniera de sistemas'}\n"
          ]
        }
      ]
    }
  ]
}