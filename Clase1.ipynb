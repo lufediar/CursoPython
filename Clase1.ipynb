{
  "nbformat": 4,
  "nbformat_minor": 0,
  "metadata": {
    "colab": {
      "provenance": [],
      "authorship_tag": "ABX9TyMDsVdxQVvhg3d7MDLhqW+W",
      "include_colab_link": true
    },
    "kernelspec": {
      "name": "python3",
      "display_name": "Python 3"
    },
    "language_info": {
      "name": "python"
    }
  },
  "cells": [
    {
      "cell_type": "markdown",
      "metadata": {
        "id": "view-in-github",
        "colab_type": "text"
      },
      "source": [
        "<a href=\"https://colab.research.google.com/github/lufediar/CursoPython/blob/main/Clase1.ipynb\" target=\"_parent\"><img src=\"https://colab.research.google.com/assets/colab-badge.svg\" alt=\"Open In Colab\"/></a>"
      ]
    },
    {
      "cell_type": "markdown",
      "source": [
        "**INTRODUCCIÓN A PYTHON**\n",
        "\n",
        "CURSO PYTHON\n",
        "\n",
        "UNICAFAM\n",
        "\n",
        "ESTUDIANTE: LUISA FERNANDA DÍAZ ARENAS\n",
        "\n",
        "DOCENTE: NICOLAS MOJICA\n",
        "\n",
        "\n",
        "\n",
        "---\n",
        "\n",
        "\n"
      ],
      "metadata": {
        "id": "m3qvJdYBAHv_"
      }
    },
    {
      "cell_type": "code",
      "execution_count": 2,
      "metadata": {
        "colab": {
          "base_uri": "https://localhost:8080/"
        },
        "id": "UJBwn2ng73R7",
        "outputId": "40edd7e2-d019-4ae5-acf9-be6534ffdbea"
      },
      "outputs": [
        {
          "output_type": "stream",
          "name": "stdout",
          "text": [
            "Hola mundo\n"
          ]
        }
      ],
      "source": [
        "# PARA PODER HACER COMENTARIOS DEBO USAR #\n",
        "print(\"Hola mundo\")"
      ]
    },
    {
      "cell_type": "code",
      "source": [
        "#PARA INSERTAR COMENTARIOS DE MÁS DE DOS LÍNEAS SE USA \"\"\n",
        "\"\"\"\n",
        "Este es\n",
        "un comentario\n",
        "de varias líneas\n",
        "\"\"\"\n",
        "print(\"Hola mundo\")"
      ],
      "metadata": {
        "colab": {
          "base_uri": "https://localhost:8080/"
        },
        "id": "TbXZK0oGEU-7",
        "outputId": "227238e3-03f9-427c-e753-a24350848bc0"
      },
      "execution_count": 3,
      "outputs": [
        {
          "output_type": "stream",
          "name": "stdout",
          "text": [
            "Hola mundo\n"
          ]
        }
      ]
    },
    {
      "cell_type": "markdown",
      "source": [
        "**VARIABLES**"
      ],
      "metadata": {
        "id": "MN_nRmXLFGaN"
      }
    },
    {
      "cell_type": "code",
      "source": [
        "#UNA VARIABLE SOLO SE DEBE NOMBRAR SIN CARÁCTERES ESPECIALES, SIN ESPACIOS Y SIN MINUSCULAS\n",
        "var=\"Hola mundo\"\n",
        "print(var)"
      ],
      "metadata": {
        "colab": {
          "base_uri": "https://localhost:8080/"
        },
        "id": "9Ot_lc8HF9N1",
        "outputId": "8957d7ed-87af-4b24-eb55-e57e8dfed871"
      },
      "execution_count": 4,
      "outputs": [
        {
          "output_type": "stream",
          "name": "stdout",
          "text": [
            "Hola mundo\n"
          ]
        }
      ]
    },
    {
      "cell_type": "code",
      "source": [
        "var=\"Adios mundo\"\n",
        "print(var)"
      ],
      "metadata": {
        "colab": {
          "base_uri": "https://localhost:8080/"
        },
        "id": "ol5vxndLGVPe",
        "outputId": "eaee1d37-06ae-40db-a3e7-d685aa44c3dc"
      },
      "execution_count": 5,
      "outputs": [
        {
          "output_type": "stream",
          "name": "stdout",
          "text": [
            "Adios mundo\n"
          ]
        }
      ]
    },
    {
      "cell_type": "markdown",
      "source": [
        "**TIPOS DE DATOS**"
      ],
      "metadata": {
        "id": "g447SyM0G3Su"
      }
    },
    {
      "cell_type": "code",
      "source": [
        "entero=42"
      ],
      "metadata": {
        "id": "O1OugBQkG6yf"
      },
      "execution_count": 6,
      "outputs": []
    },
    {
      "cell_type": "code",
      "source": [
        "flotante=3.14159"
      ],
      "metadata": {
        "id": "HyPeW2c9HX28"
      },
      "execution_count": 7,
      "outputs": []
    },
    {
      "cell_type": "code",
      "source": [
        "#CONVERSIÓN DE TIPOS DE DATOS\n",
        "entero=int(3.14159)#LA RESPUESTA ES 3\n",
        "flotante=float(5)#LA RESPUESTA ES 5.0"
      ],
      "metadata": {
        "id": "K7Q1azlmHuYw"
      },
      "execution_count": 8,
      "outputs": []
    }
  ]
}