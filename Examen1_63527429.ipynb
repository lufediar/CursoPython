{
  "cells": [
    {
      "cell_type": "markdown",
      "metadata": {
        "id": "view-in-github",
        "colab_type": "text"
      },
      "source": [
        "<a href=\"https://colab.research.google.com/github/lufediar/CursoPython/blob/main/Examen1_63527429.ipynb\" target=\"_parent\"><img src=\"https://colab.research.google.com/assets/colab-badge.svg\" alt=\"Open In Colab\"/></a>"
      ]
    },
    {
      "cell_type": "markdown",
      "source": [
        "![images.png](data:image/png;base64,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)\n",
        "\n",
        "\n",
        "**PRUEBA DE ENTREVISTA**\n",
        "\n",
        "CURSO DE PYTHON\n",
        "\n",
        "DIRECCION DE EDUCACIÓN CONTINUA\n",
        "\n",
        "FUNDACION UNIVERSITARIA CAFAM\n",
        "\n",
        "DOCENTE: NICOLAS MOJICA GOMEZ\n",
        "\n",
        "ESTUDIANTE: **LUISA FERNANDA DÍAZ ARENAS**\n",
        "\n",
        "\n",
        "---"
      ],
      "metadata": {
        "id": "Sb5I55A6yJOL"
      },
      "id": "Sb5I55A6yJOL"
    },
    {
      "cell_type": "markdown",
      "id": "a038a053",
      "metadata": {
        "id": "a038a053"
      },
      "source": [
        "Este examen evalúa conceptos fundamentales de Python. Tienes 2 horas y 30 minutos para completarlo. Por favor, responde cada pregunta en las celdas indicadas.\n",
        "\n",
        "**Instrucciones:**\n",
        "1. Lee cada pregunta cuidadosamente.\n",
        "2. Responde en la celda proporcionada debajo de cada pregunta.\n",
        "3. Guarda tu progreso frecuentemente.\n",
        "\n",
        "¡Buena suerte!\n"
      ]
    },
    {
      "cell_type": "markdown",
      "id": "d6b0e321",
      "metadata": {
        "id": "d6b0e321"
      },
      "source": [
        "## Sección 1: Teoría\n",
        "\n",
        "Responde las siguientes preguntas teóricas:"
      ]
    },
    {
      "cell_type": "markdown",
      "id": "2589c157",
      "metadata": {
        "id": "2589c157"
      },
      "source": [
        "### 1. Variables y Tipos de Datos\n",
        "\n",
        "a. ¿Cuál es la diferencia entre una lista y una tupla en Python? Proporciona ejemplos.\n",
        "\n",
        "Rta: La diferencia es que en una lista se pueden modificar los elementos, mientras que una tupla los elementos no se pueden modificar despues de crearlas\n",
        "\n",
        "**Ejemplos:**\n",
        "\n",
        "\n",
        "\n",
        "```\n",
        "# Lista\n",
        "lista = [1, 2, 3]\n",
        "lista[0]=11\n",
        "print(lista)\n",
        "\n",
        "```\n",
        "\n",
        "```\n",
        "# Tupla\n",
        "tupla = (1, 2, \"luisa\")\n",
        "print(tupla[2])\n",
        "```\n",
        "\n",
        "\n",
        "\n",
        "\n",
        "\n",
        "b. ¿Qué significa que una variable sea mutable? Proporciona un ejemplo de una variable mutable.\n",
        "\n",
        "Rta: una variable mutable puede cambiar su contenido, es decir que se puede agregar, eliminar o modificar un elemento.\n",
        "\n",
        "**Ejemplo**\n",
        "\n",
        "```\n",
        "# variable mutable\n",
        "lista = [1, 2, 3]\n",
        "lista[0]=11\n",
        "print(lista)\n",
        "```\n",
        "\n"
      ]
    },
    {
      "cell_type": "markdown",
      "id": "4f4abfcb",
      "metadata": {
        "id": "4f4abfcb"
      },
      "source": [
        "### 2. Operadores\n",
        "\n",
        "a. Explica la diferencia entre `==` e `is` en Python.\n",
        "\n",
        "Rta: **==** es un operador de igualdad compara si los valores son iguales, mientras que **is** comprueba si un elemento se encuentra apuntando a un mismo lugar\n",
        "\n",
        "\n",
        "b. Menciona y explica brevemente los operadores lógicos en Python.\n",
        "\n",
        "Rta: los operadores logicos son los que ayudan a evaluar si una condición es verdadera o falsa (and,no,or).\n",
        "\n"
      ]
    },
    {
      "cell_type": "markdown",
      "id": "ab8d6323",
      "metadata": {
        "id": "ab8d6323"
      },
      "source": [
        "### 3. Estructuras de Control\n",
        "\n",
        "a. ¿Cuál es la función de `elif` en Python? Proporciona un ejemplo.\n",
        "\n",
        "Rta: la función es comprobar una condición cuando la anterior no es verdadera.\n",
        "\n",
        "**Ejemplo**\n",
        "\n",
        "```\n",
        "# función elif\n",
        "ventas = 50000000\n",
        "if ventas < 20000000:  \n",
        "    print(\"Bonificación de 10%\")\n",
        "elif ventas < 35000000:  \n",
        "    print(\"Bonificación del 30%\")\n",
        "else:  \n",
        "    print(\"Bonificación del 50%\")\n",
        "```\n",
        "\n",
        "\n",
        "\n",
        "b. ¿Cuál es la diferencia entre un bucle `for` y un bucle `while`?\n",
        "\n",
        "Rta: un bucle se repite las veces que se necesiten siempre y cuando se cumpla la condición, mientras que un for se repita un determinado numero de veces.\n",
        "\n",
        "**Ejemplo**\n",
        "\n",
        "```\n",
        "# for\n",
        "for numero in [1, 2, 3]:\n",
        "    print(numero)\n",
        "```\n",
        "\n",
        "\n",
        "```\n",
        "# bucle\n",
        "contador = 0\n",
        "while contador < 3:\n",
        "    print(contador)\n",
        "    contador += 1\n",
        "```"
      ]
    },
    {
      "cell_type": "markdown",
      "id": "49e5f7d3",
      "metadata": {
        "id": "49e5f7d3"
      },
      "source": [
        "## Sección 2: Práctica\n",
        "\n",
        "Completa los siguientes ejercicios de programación."
      ]
    },
    {
      "cell_type": "markdown",
      "id": "778c4807",
      "metadata": {
        "id": "778c4807"
      },
      "source": [
        "### 1. Variables y Operadores\n",
        "\n",
        "Escribe un programa que solicite dos números al usuario y realice las operaciones de suma, resta, multiplicación, división y módulo.\n",
        "\n",
        "**Espacio para tu código:**"
      ]
    },
    {
      "cell_type": "code",
      "execution_count": 53,
      "id": "e7a63e93",
      "metadata": {
        "id": "e7a63e93",
        "colab": {
          "base_uri": "https://localhost:8080/"
        },
        "outputId": "44e63cc0-8de1-4cf0-a0f9-4aa1cb75ee88"
      },
      "outputs": [
        {
          "output_type": "stream",
          "name": "stdout",
          "text": [
            "Ingresa el primer número: 11\n",
            "Ingresa el segundo número: 2\n",
            "Resultado suma: 13\n",
            "Resultado resta: 9\n",
            "Resultado multiplicación: 22\n",
            "Resultado division: 5.5\n",
            "Resultado módulo: 1\n"
          ]
        }
      ],
      "source": [
        "numero1 = int(input(\"Ingresa el primer número: \"))\n",
        "numero2 = int(input(\"Ingresa el segundo número: \"))\n",
        "suma = numero1 + numero2\n",
        "resta = numero1 - numero2\n",
        "multiplicacion = numero1 * numero2\n",
        "division = numero1 / numero2\n",
        "modulo = numero1 % numero2\n",
        "\n",
        "print(f\"Resultado suma: {suma}\")\n",
        "print(f\"Resultado resta: {resta}\")\n",
        "print(f\"Resultado multiplicación: {multiplicacion}\")\n",
        "print(f\"Resultado division: {division}\")\n",
        "print(f\"Resultado módulo: {modulo}\")"
      ]
    },
    {
      "cell_type": "markdown",
      "id": "56fe1d81",
      "metadata": {
        "id": "56fe1d81"
      },
      "source": [
        "### 2. Estructuras de Datos\n",
        "\n",
        "Escribe un programa que solicite al usuario 5 palabras, las almacene en una lista, ordene la lista alfabéticamente, la convierta en una tupla e imprima la longitud de la tupla.\n",
        "\n",
        "**Espacio para tu código:**"
      ]
    },
    {
      "cell_type": "code",
      "execution_count": 18,
      "id": "8772080c",
      "metadata": {
        "id": "8772080c",
        "colab": {
          "base_uri": "https://localhost:8080/"
        },
        "outputId": "093d0432-d0ec-4bc0-84b2-d9c4450545ef"
      },
      "outputs": [
        {
          "output_type": "stream",
          "name": "stdout",
          "text": [
            "Ingresa una palabra 1: mi\n",
            "Ingresa una palabra 2: amor\n",
            "Ingresa una palabra 3: jorge\n",
            "Ingresa una palabra 4: ocampo\n",
            "Ingresa una palabra 5: osorio\n",
            "La longitud de la tupla es: 5\n"
          ]
        }
      ],
      "source": [
        "palabras = []\n",
        "for i in range(5):\n",
        "    palabra = input(f\"Ingresa una palabra {i + 1}: \")\n",
        "    palabras.append(palabra)\n",
        "palabras.sort()\n",
        "tupla_palabras = tuple(palabras)\n",
        "print(f\"La longitud de la tupla es: {len(tupla_palabras)}\")"
      ]
    },
    {
      "cell_type": "markdown",
      "id": "82b32407",
      "metadata": {
        "id": "82b32407"
      },
      "source": [
        "### 3. Condicionales\n",
        "\n",
        "Escribe un programa que solicite al usuario su edad y determine si es menor de edad, mayor de edad o adulto mayor.\n",
        "\n",
        "**Espacio para tu código:**"
      ]
    },
    {
      "cell_type": "code",
      "execution_count": 27,
      "id": "a161d90c",
      "metadata": {
        "id": "a161d90c",
        "colab": {
          "base_uri": "https://localhost:8080/"
        },
        "outputId": "d460b037-16e1-4a9b-ce9b-73b18d0ffc76"
      },
      "outputs": [
        {
          "output_type": "stream",
          "name": "stdout",
          "text": [
            "Mayor de edad\n"
          ]
        }
      ],
      "source": [
        "edad = 42\n",
        "if edad < 16:\n",
        "    print(\"Menor de edad\")\n",
        "elif edad < 51:\n",
        "    print(\"Mayor de edad\")\n",
        "else:\n",
        "    print(\"Adulto mayor\")"
      ]
    },
    {
      "cell_type": "markdown",
      "id": "22a06bd2",
      "metadata": {
        "id": "22a06bd2"
      },
      "source": [
        "### 4. Funciones\n",
        "\n",
        "Define una función que reciba una lista de números y calcule el promedio. Solicita al usuario 5 números, almacénalos en una lista, calcula el promedio usando la función e imprime el resultado.\n",
        "\n",
        "**Espacio para tu código:**"
      ]
    },
    {
      "cell_type": "code",
      "execution_count": 36,
      "id": "6ac8651e",
      "metadata": {
        "id": "6ac8651e",
        "colab": {
          "base_uri": "https://localhost:8080/"
        },
        "outputId": "3a04f3ab-2133-41a8-ae61-6b67a164c665"
      },
      "outputs": [
        {
          "output_type": "stream",
          "name": "stdout",
          "text": [
            "Ingresar número 1: 2\n",
            "Ingresar número 2: 5\n",
            "Ingresar número 3: 6\n",
            "Ingresar número 4: 7\n",
            "Ingresar número 5: 3\n",
            "El promedio de los números es: 4.6\n"
          ]
        }
      ],
      "source": [
        "def calculo_promedio(lista):\n",
        "  promedio = sum(lista) / 5\n",
        "  return promedio\n",
        "\n",
        "numeros_usuario = []\n",
        "for i in range(5):\n",
        "    numeros = int(input(f\"Ingresar número {i + 1}: \"))\n",
        "    numeros_usuario.append(numeros)\n",
        "\n",
        "promedio = calculo_promedio(numeros_usuario)\n",
        "print(f\"El promedio de los números es: {promedio}\")"
      ]
    },
    {
      "cell_type": "markdown",
      "id": "65bbe5fa",
      "metadata": {
        "id": "65bbe5fa"
      },
      "source": [
        "### 5. Ciclos y Bucles\n",
        "\n",
        "Escribe un programa que imprima los números del 1 al 100, pero:\n",
        "- Si un número es múltiplo de 3, imprime 'Fizz'.\n",
        "- Si un número es múltiplo de 5, imprime 'Buzz'.\n",
        "- Si es múltiplo de ambos, imprime 'FizzBuzz'.\n",
        "\n",
        "**Espacio para tu código:**"
      ]
    },
    {
      "cell_type": "code",
      "execution_count": 45,
      "id": "6f29390e",
      "metadata": {
        "id": "6f29390e",
        "colab": {
          "base_uri": "https://localhost:8080/"
        },
        "outputId": "4baeacbd-ff0c-4e06-a485-4f039576d266"
      },
      "outputs": [
        {
          "output_type": "stream",
          "name": "stdout",
          "text": [
            "Fizz\n",
            "1\n",
            "2\n",
            "Fizz\n",
            "4\n",
            "Buzz\n",
            "Fizz\n",
            "7\n",
            "8\n",
            "Fizz\n",
            "Buzz\n",
            "11\n",
            "Fizz\n",
            "13\n",
            "14\n",
            "Fizz\n",
            "16\n",
            "17\n",
            "Fizz\n",
            "19\n",
            "Buzz\n",
            "Fizz\n",
            "22\n",
            "23\n",
            "Fizz\n",
            "Buzz\n",
            "26\n",
            "Fizz\n",
            "28\n",
            "29\n",
            "Fizz\n",
            "31\n",
            "32\n",
            "Fizz\n",
            "34\n",
            "Buzz\n",
            "Fizz\n",
            "37\n",
            "38\n",
            "Fizz\n",
            "Buzz\n",
            "41\n",
            "Fizz\n",
            "43\n",
            "44\n",
            "Fizz\n",
            "46\n",
            "47\n",
            "Fizz\n",
            "49\n",
            "Buzz\n",
            "Fizz\n",
            "52\n",
            "53\n",
            "Fizz\n",
            "Buzz\n",
            "56\n",
            "Fizz\n",
            "58\n",
            "59\n",
            "Fizz\n",
            "61\n",
            "62\n",
            "Fizz\n",
            "64\n",
            "Buzz\n",
            "Fizz\n",
            "67\n",
            "68\n",
            "Fizz\n",
            "Buzz\n",
            "71\n",
            "Fizz\n",
            "73\n",
            "74\n",
            "Fizz\n",
            "76\n",
            "77\n",
            "Fizz\n",
            "79\n",
            "Buzz\n",
            "Fizz\n",
            "82\n",
            "83\n",
            "Fizz\n",
            "Buzz\n",
            "86\n",
            "Fizz\n",
            "88\n",
            "89\n",
            "Fizz\n",
            "91\n",
            "92\n",
            "Fizz\n",
            "94\n",
            "Buzz\n",
            "Fizz\n",
            "97\n",
            "98\n",
            "Fizz\n"
          ]
        }
      ],
      "source": [
        "for numero in range(100):\n",
        "  if numero % 3 == 0:\n",
        "    print(\"Fizz\")\n",
        "  elif numero % 5 == 0:\n",
        "    print(\"Buzz\")\n",
        "  elif numero % 3 == 0 and numero % 5 == 0:\n",
        "    print(\"FizzBuzz\")\n",
        "  else:\n",
        "    print(numero)"
      ]
    },
    {
      "cell_type": "markdown",
      "id": "b00c70f3",
      "metadata": {
        "id": "b00c70f3"
      },
      "source": [
        "### 6. Proyecto Final: Sistema de Inventario\n",
        "\n",
        "Escribe un programa que gestione un inventario utilizando un diccionario. El programa debe:\n",
        "1. Permitir agregar productos con su cantidad.\n",
        "2. Actualizar la cantidad de un producto existente.\n",
        "3. Eliminar un producto del inventario.\n",
        "4. Mostrar todos los productos y sus cantidades.\n",
        "5. Salir del programa.\n",
        "\n",
        "El programa debe mostrar un menú interactivo para que el usuario seleccione una opción.\n",
        "\n",
        "**Espacio para tu código:**"
      ]
    },
    {
      "cell_type": "code",
      "execution_count": 57,
      "id": "298f2a53",
      "metadata": {
        "id": "298f2a53",
        "colab": {
          "base_uri": "https://localhost:8080/"
        },
        "outputId": "a369ba03-cc48-4cea-e8be-7abfd5b83e36"
      },
      "outputs": [
        {
          "output_type": "stream",
          "name": "stdout",
          "text": [
            "Menú:\n",
            "1. Agregar un produto\n",
            "2. Actualizar cantidad de producto existente\n",
            "3. Eliminar producto del inventario\n",
            "4. Mostrar productos y cantidades\n",
            "5. Salir del programa\n",
            "Seleccione una opción: 3\n",
            "Ingrese el nombre del producto a eliminar: teclado\n",
            "El producto: teclado No existe en el inventario\n",
            "Menú:\n",
            "1. Agregar un produto\n",
            "2. Actualizar cantidad de producto existente\n",
            "3. Eliminar producto del inventario\n",
            "4. Mostrar productos y cantidades\n",
            "5. Salir del programa\n",
            "Seleccione una opción: 5\n",
            "Programa finalizado\n"
          ]
        }
      ],
      "source": [
        "inventario = {}\n",
        "\n",
        "def menu():\n",
        "    print(\"Menú:\")\n",
        "    print(\"1. Agregar un produto\")\n",
        "    print(\"2. Actualizar cantidad de producto existente\")\n",
        "    print(\"3. Eliminar producto del inventario\")\n",
        "    print(\"4. Mostrar productos y cantidades\")\n",
        "    print(\"5. Salir del programa\")\n",
        "\n",
        "def agregar_producto():\n",
        "    producto = input(\"Ingrese el nombre del producto: \")\n",
        "    cantidad = int(input(\"Ingrese la cantidad: \"))\n",
        "    inventario[producto] = cantidad\n",
        "    print(f\"Producto: {producto} Cantidad: {cantidad}\")\n",
        "\n",
        "def actualizar_producto():\n",
        "    producto = input(\"Ingrese el nombre del producto a actualizar: \")\n",
        "    if producto in inventario:\n",
        "        cantidad = int(input(f\"Ingrese la nueva cantidad de {producto}: \"))\n",
        "        inventario[producto] = cantidad\n",
        "        print(f\"La cantidad de: {producto} fue actualizada a: {cantidad}\")\n",
        "    else:\n",
        "        print(f\"El producto: {producto} No existe en el inventario\")\n",
        "\n",
        "def eliminar_producto():\n",
        "    producto = input(\"Ingrese el nombre del producto a eliminar: \")\n",
        "    if producto in inventario:\n",
        "        del inventario[producto]\n",
        "        print(f\"El oroducto: {producto} fue eliminado del inventario\")\n",
        "    else:\n",
        "        print(f\"El producto: {producto} No existe en el inventario\")\n",
        "\n",
        "def mostrar_inventario():\n",
        "    if not inventario:\n",
        "        print(\"El inventario está vacío.\")\n",
        "    else:\n",
        "        print(\"Inventario\")\n",
        "        for producto, cantidad in inventario.items():\n",
        "            print(f\"{producto}: {cantidad}\")\n",
        "\n",
        "def ejecutar_programa():\n",
        "    while True:\n",
        "        menu()\n",
        "        opcion = input(\"Seleccione una opción: \")\n",
        "        if opcion == \"1\":\n",
        "            agregar_producto()\n",
        "        elif opcion == \"2\":\n",
        "            actualizar_producto()\n",
        "        elif opcion == \"3\":\n",
        "            eliminar_producto()\n",
        "        elif opcion == \"4\":\n",
        "            mostrar_inventario()\n",
        "        elif opcion == \"5\":\n",
        "            print(\"Programa finalizado\")\n",
        "            break\n",
        "        else:\n",
        "            print(\"Opción inválida. Por favor, seleccione una nueva opción\")\n",
        "ejecutar_programa()"
      ]
    }
  ],
  "metadata": {
    "colab": {
      "provenance": [],
      "include_colab_link": true
    },
    "language_info": {
      "name": "python"
    },
    "kernelspec": {
      "name": "python3",
      "display_name": "Python 3"
    }
  },
  "nbformat": 4,
  "nbformat_minor": 5
}