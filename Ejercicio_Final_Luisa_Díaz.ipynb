{
  "nbformat": 4,
  "nbformat_minor": 0,
  "metadata": {
    "colab": {
      "provenance": [],
      "include_colab_link": true
    },
    "kernelspec": {
      "name": "python3",
      "display_name": "Python 3"
    },
    "language_info": {
      "name": "python"
    }
  },
  "cells": [
    {
      "cell_type": "markdown",
      "metadata": {
        "id": "view-in-github",
        "colab_type": "text"
      },
      "source": [
        "<a href=\"https://colab.research.google.com/github/lufediar/CursoPython/blob/main/Ejercicio_Final_Luisa_D%C3%ADaz.ipynb\" target=\"_parent\"><img src=\"https://colab.research.google.com/assets/colab-badge.svg\" alt=\"Open In Colab\"/></a>"
      ]
    },
    {
      "cell_type": "markdown",
      "source": [
        "# Luisa Fernanda Díaz Arenas"
      ],
      "metadata": {
        "id": "kRM-cdtPqNwC"
      }
    },
    {
      "cell_type": "markdown",
      "source": [
        "## Tabla de frecuencia"
      ],
      "metadata": {
        "id": "VaAZ61INb3Xf"
      }
    },
    {
      "cell_type": "code",
      "execution_count": 1,
      "metadata": {
        "colab": {
          "base_uri": "https://localhost:8080/",
          "height": 73
        },
        "id": "UpnDdTPclsn0",
        "outputId": "6d74351d-471a-438d-985a-d56b59ca80b2"
      },
      "outputs": [
        {
          "output_type": "display_data",
          "data": {
            "text/plain": [
              "<IPython.core.display.HTML object>"
            ],
            "text/html": [
              "\n",
              "     <input type=\"file\" id=\"files-8d50a440-bdc6-4ab5-b4ee-fce1be4ee00a\" name=\"files[]\" multiple disabled\n",
              "        style=\"border:none\" />\n",
              "     <output id=\"result-8d50a440-bdc6-4ab5-b4ee-fce1be4ee00a\">\n",
              "      Upload widget is only available when the cell has been executed in the\n",
              "      current browser session. Please rerun this cell to enable.\n",
              "      </output>\n",
              "      <script>// Copyright 2017 Google LLC\n",
              "//\n",
              "// Licensed under the Apache License, Version 2.0 (the \"License\");\n",
              "// you may not use this file except in compliance with the License.\n",
              "// You may obtain a copy of the License at\n",
              "//\n",
              "//      http://www.apache.org/licenses/LICENSE-2.0\n",
              "//\n",
              "// Unless required by applicable law or agreed to in writing, software\n",
              "// distributed under the License is distributed on an \"AS IS\" BASIS,\n",
              "// WITHOUT WARRANTIES OR CONDITIONS OF ANY KIND, either express or implied.\n",
              "// See the License for the specific language governing permissions and\n",
              "// limitations under the License.\n",
              "\n",
              "/**\n",
              " * @fileoverview Helpers for google.colab Python module.\n",
              " */\n",
              "(function(scope) {\n",
              "function span(text, styleAttributes = {}) {\n",
              "  const element = document.createElement('span');\n",
              "  element.textContent = text;\n",
              "  for (const key of Object.keys(styleAttributes)) {\n",
              "    element.style[key] = styleAttributes[key];\n",
              "  }\n",
              "  return element;\n",
              "}\n",
              "\n",
              "// Max number of bytes which will be uploaded at a time.\n",
              "const MAX_PAYLOAD_SIZE = 100 * 1024;\n",
              "\n",
              "function _uploadFiles(inputId, outputId) {\n",
              "  const steps = uploadFilesStep(inputId, outputId);\n",
              "  const outputElement = document.getElementById(outputId);\n",
              "  // Cache steps on the outputElement to make it available for the next call\n",
              "  // to uploadFilesContinue from Python.\n",
              "  outputElement.steps = steps;\n",
              "\n",
              "  return _uploadFilesContinue(outputId);\n",
              "}\n",
              "\n",
              "// This is roughly an async generator (not supported in the browser yet),\n",
              "// where there are multiple asynchronous steps and the Python side is going\n",
              "// to poll for completion of each step.\n",
              "// This uses a Promise to block the python side on completion of each step,\n",
              "// then passes the result of the previous step as the input to the next step.\n",
              "function _uploadFilesContinue(outputId) {\n",
              "  const outputElement = document.getElementById(outputId);\n",
              "  const steps = outputElement.steps;\n",
              "\n",
              "  const next = steps.next(outputElement.lastPromiseValue);\n",
              "  return Promise.resolve(next.value.promise).then((value) => {\n",
              "    // Cache the last promise value to make it available to the next\n",
              "    // step of the generator.\n",
              "    outputElement.lastPromiseValue = value;\n",
              "    return next.value.response;\n",
              "  });\n",
              "}\n",
              "\n",
              "/**\n",
              " * Generator function which is called between each async step of the upload\n",
              " * process.\n",
              " * @param {string} inputId Element ID of the input file picker element.\n",
              " * @param {string} outputId Element ID of the output display.\n",
              " * @return {!Iterable<!Object>} Iterable of next steps.\n",
              " */\n",
              "function* uploadFilesStep(inputId, outputId) {\n",
              "  const inputElement = document.getElementById(inputId);\n",
              "  inputElement.disabled = false;\n",
              "\n",
              "  const outputElement = document.getElementById(outputId);\n",
              "  outputElement.innerHTML = '';\n",
              "\n",
              "  const pickedPromise = new Promise((resolve) => {\n",
              "    inputElement.addEventListener('change', (e) => {\n",
              "      resolve(e.target.files);\n",
              "    });\n",
              "  });\n",
              "\n",
              "  const cancel = document.createElement('button');\n",
              "  inputElement.parentElement.appendChild(cancel);\n",
              "  cancel.textContent = 'Cancel upload';\n",
              "  const cancelPromise = new Promise((resolve) => {\n",
              "    cancel.onclick = () => {\n",
              "      resolve(null);\n",
              "    };\n",
              "  });\n",
              "\n",
              "  // Wait for the user to pick the files.\n",
              "  const files = yield {\n",
              "    promise: Promise.race([pickedPromise, cancelPromise]),\n",
              "    response: {\n",
              "      action: 'starting',\n",
              "    }\n",
              "  };\n",
              "\n",
              "  cancel.remove();\n",
              "\n",
              "  // Disable the input element since further picks are not allowed.\n",
              "  inputElement.disabled = true;\n",
              "\n",
              "  if (!files) {\n",
              "    return {\n",
              "      response: {\n",
              "        action: 'complete',\n",
              "      }\n",
              "    };\n",
              "  }\n",
              "\n",
              "  for (const file of files) {\n",
              "    const li = document.createElement('li');\n",
              "    li.append(span(file.name, {fontWeight: 'bold'}));\n",
              "    li.append(span(\n",
              "        `(${file.type || 'n/a'}) - ${file.size} bytes, ` +\n",
              "        `last modified: ${\n",
              "            file.lastModifiedDate ? file.lastModifiedDate.toLocaleDateString() :\n",
              "                                    'n/a'} - `));\n",
              "    const percent = span('0% done');\n",
              "    li.appendChild(percent);\n",
              "\n",
              "    outputElement.appendChild(li);\n",
              "\n",
              "    const fileDataPromise = new Promise((resolve) => {\n",
              "      const reader = new FileReader();\n",
              "      reader.onload = (e) => {\n",
              "        resolve(e.target.result);\n",
              "      };\n",
              "      reader.readAsArrayBuffer(file);\n",
              "    });\n",
              "    // Wait for the data to be ready.\n",
              "    let fileData = yield {\n",
              "      promise: fileDataPromise,\n",
              "      response: {\n",
              "        action: 'continue',\n",
              "      }\n",
              "    };\n",
              "\n",
              "    // Use a chunked sending to avoid message size limits. See b/62115660.\n",
              "    let position = 0;\n",
              "    do {\n",
              "      const length = Math.min(fileData.byteLength - position, MAX_PAYLOAD_SIZE);\n",
              "      const chunk = new Uint8Array(fileData, position, length);\n",
              "      position += length;\n",
              "\n",
              "      const base64 = btoa(String.fromCharCode.apply(null, chunk));\n",
              "      yield {\n",
              "        response: {\n",
              "          action: 'append',\n",
              "          file: file.name,\n",
              "          data: base64,\n",
              "        },\n",
              "      };\n",
              "\n",
              "      let percentDone = fileData.byteLength === 0 ?\n",
              "          100 :\n",
              "          Math.round((position / fileData.byteLength) * 100);\n",
              "      percent.textContent = `${percentDone}% done`;\n",
              "\n",
              "    } while (position < fileData.byteLength);\n",
              "  }\n",
              "\n",
              "  // All done.\n",
              "  yield {\n",
              "    response: {\n",
              "      action: 'complete',\n",
              "    }\n",
              "  };\n",
              "}\n",
              "\n",
              "scope.google = scope.google || {};\n",
              "scope.google.colab = scope.google.colab || {};\n",
              "scope.google.colab._files = {\n",
              "  _uploadFiles,\n",
              "  _uploadFilesContinue,\n",
              "};\n",
              "})(self);\n",
              "</script> "
            ]
          },
          "metadata": {}
        },
        {
          "output_type": "stream",
          "name": "stdout",
          "text": [
            "Saving Base Ventas Celulares.csv to Base Ventas Celulares.csv\n"
          ]
        }
      ],
      "source": [
        "from google.colab import files\n",
        "uploaded = files.upload()"
      ]
    },
    {
      "cell_type": "markdown",
      "source": [
        "Librerias"
      ],
      "metadata": {
        "id": "LDBKvlxacY2W"
      }
    },
    {
      "cell_type": "code",
      "source": [
        "import pandas as pd\n",
        "import numpy as np\n",
        "import math\n",
        "import matplotlib.pyplot as plt"
      ],
      "metadata": {
        "id": "piECUzzzcYfc"
      },
      "execution_count": 2,
      "outputs": []
    },
    {
      "cell_type": "markdown",
      "source": [
        "Cargue del archivo Base Ventas Celulares.csv"
      ],
      "metadata": {
        "id": "Ef_Xt6G0dCwI"
      }
    },
    {
      "cell_type": "code",
      "source": [
        "df = pd.read_csv('Base Ventas Celulares.csv')\n",
        "print(df.head())"
      ],
      "metadata": {
        "colab": {
          "base_uri": "https://localhost:8080/"
        },
        "id": "8TE-RKaLdJJ_",
        "outputId": "4d7d1339-49f9-4b1e-edf8-e4fbfbe51ff4"
      },
      "execution_count": 3,
      "outputs": [
        {
          "output_type": "stream",
          "name": "stdout",
          "text": [
            "   Fecha Codigo         País Distribuidor Producto  Operador  Cantidad  \\\n",
            "0  40181   A640  El Salvador       Ripley  Samsung  Movistar        15   \n",
            "1  40183   A687       España    Plaza Vea       LG     Entel        29   \n",
            "2  40185  A1162     Paraguay        Metro    Nokia     Entel        21   \n",
            "3  40189   A463         Cuba      Oeschle    Apple     Entel        30   \n",
            "4  40190   A847    Guatemala        Metro       LG     Claro         7   \n",
            "\n",
            "  Forma de pago   Precio     Total  \n",
            "0      Efectivo  1750000  26250000  \n",
            "1      Efectivo  1100000  31900000  \n",
            "2      Efectivo   950000  19950000  \n",
            "3      Efectivo   710000  21300000  \n",
            "4      Efectivo  1610000  11270000  \n"
          ]
        }
      ]
    },
    {
      "cell_type": "markdown",
      "source": [
        "Análisis de los datos presentados"
      ],
      "metadata": {
        "id": "9PF0exJWdsiR"
      }
    },
    {
      "cell_type": "code",
      "source": [
        "print(df.head())\n",
        "\n",
        "print(df.isnull().sum())\n",
        "\n",
        "print(df.dtypes)"
      ],
      "metadata": {
        "colab": {
          "base_uri": "https://localhost:8080/"
        },
        "collapsed": true,
        "id": "AAm4Bk_XeBa4",
        "outputId": "240dc38d-cc71-4ec4-cb31-05b637d1bd4f"
      },
      "execution_count": 11,
      "outputs": [
        {
          "output_type": "stream",
          "name": "stdout",
          "text": [
            "   Fecha Codigo         País Distribuidor Producto  Operador  Cantidad  \\\n",
            "0  40181   A640  El Salvador       Ripley  Samsung  Movistar        15   \n",
            "1  40183   A687       España    Plaza Vea       LG     Entel        29   \n",
            "2  40185  A1162     Paraguay        Metro    Nokia     Entel        21   \n",
            "3  40189   A463         Cuba      Oeschle    Apple     Entel        30   \n",
            "4  40190   A847    Guatemala        Metro       LG     Claro         7   \n",
            "\n",
            "  Forma de pago   Precio     Total  \n",
            "0      Efectivo  1750000  26250000  \n",
            "1      Efectivo  1100000  31900000  \n",
            "2      Efectivo   950000  19950000  \n",
            "3      Efectivo   710000  21300000  \n",
            "4      Efectivo  1610000  11270000  \n",
            "Fecha            0\n",
            "Codigo           0\n",
            "País             0\n",
            "Distribuidor     0\n",
            "Producto         0\n",
            "Operador         0\n",
            "Cantidad         0\n",
            "Forma de pago    0\n",
            "Precio           0\n",
            "Total            0\n",
            "dtype: int64\n",
            "Fecha             int64\n",
            "Codigo           object\n",
            "País             object\n",
            "Distribuidor     object\n",
            "Producto         object\n",
            "Operador         object\n",
            "Cantidad          int64\n",
            "Forma de pago    object\n",
            "Precio            int64\n",
            "Total             int64\n",
            "dtype: object\n"
          ]
        }
      ]
    },
    {
      "cell_type": "code",
      "source": [
        "print(df.info())"
      ],
      "metadata": {
        "colab": {
          "base_uri": "https://localhost:8080/"
        },
        "collapsed": true,
        "id": "1M5Q_ISJfPHs",
        "outputId": "5b0e3e1d-f868-488c-8464-67c2d5700c33"
      },
      "execution_count": 12,
      "outputs": [
        {
          "output_type": "stream",
          "name": "stdout",
          "text": [
            "<class 'pandas.core.frame.DataFrame'>\n",
            "RangeIndex: 1499 entries, 0 to 1498\n",
            "Data columns (total 10 columns):\n",
            " #   Column         Non-Null Count  Dtype \n",
            "---  ------         --------------  ----- \n",
            " 0   Fecha          1499 non-null   int64 \n",
            " 1   Codigo         1499 non-null   object\n",
            " 2   País           1499 non-null   object\n",
            " 3   Distribuidor   1499 non-null   object\n",
            " 4   Producto       1499 non-null   object\n",
            " 5   Operador       1499 non-null   object\n",
            " 6   Cantidad       1499 non-null   int64 \n",
            " 7   Forma de pago  1499 non-null   object\n",
            " 8   Precio         1499 non-null   int64 \n",
            " 9   Total          1499 non-null   int64 \n",
            "dtypes: int64(4), object(6)\n",
            "memory usage: 117.2+ KB\n",
            "None\n"
          ]
        }
      ]
    },
    {
      "cell_type": "code",
      "source": [
        "print(df.describe())"
      ],
      "metadata": {
        "colab": {
          "base_uri": "https://localhost:8080/"
        },
        "id": "1I7ncFvifkvo",
        "outputId": "b31502c7-ddcc-42a8-fd44-004100d18244"
      },
      "execution_count": 13,
      "outputs": [
        {
          "output_type": "stream",
          "name": "stdout",
          "text": [
            "              Fecha     Cantidad        Precio         Total\n",
            "count   1499.000000  1499.000000  1.499000e+03  1.499000e+03\n",
            "mean   41080.438959    15.587725  1.343149e+06  2.095867e+07\n",
            "std      526.935553     8.725804  3.703282e+05  1.347546e+07\n",
            "min    40181.000000     1.000000  7.000000e+05  7.100000e+05\n",
            "25%    40618.500000     8.000000  1.010000e+06  9.940000e+06\n",
            "50%    41059.000000    16.000000  1.340000e+06  1.940000e+07\n",
            "75%    41540.500000    23.000000  1.660000e+06  2.988500e+07\n",
            "max    42004.000000    30.000000  2.000000e+06  5.940000e+07\n"
          ]
        }
      ]
    },
    {
      "cell_type": "markdown",
      "source": [
        "## Medidas de Tendencia central"
      ],
      "metadata": {
        "id": "5zASX0lvgFYf"
      }
    },
    {
      "cell_type": "markdown",
      "source": [
        "Media"
      ],
      "metadata": {
        "id": "eZj3sTisPjz8"
      }
    },
    {
      "cell_type": "code",
      "source": [
        "media_Cantidad = df['Cantidad'].mean()\n",
        "print(f'La media de cantidad es: {media_Cantidad}')\n",
        "\n",
        "media_Total = df['Total'].mean()\n",
        "print(f'La media de total es: {media_Total}')"
      ],
      "metadata": {
        "colab": {
          "base_uri": "https://localhost:8080/"
        },
        "id": "q3jpYm4IgPCN",
        "outputId": "c2e4b5a0-433a-427e-bb1d-7f27570c1c29"
      },
      "execution_count": 16,
      "outputs": [
        {
          "output_type": "stream",
          "name": "stdout",
          "text": [
            "La media de cantidad es: 15.587725150100066\n",
            "La media de total es: 20958672.448298864\n"
          ]
        }
      ]
    },
    {
      "cell_type": "markdown",
      "source": [
        "Mediana"
      ],
      "metadata": {
        "id": "OB-r-u_VP2is"
      }
    },
    {
      "cell_type": "code",
      "source": [
        "mediana_Cantidad = df['Cantidad'].median()\n",
        "print(f'La mediana de cantidad es: {mediana_Cantidad}')\n",
        "\n",
        "mediana_Total = df['Total'].median()\n",
        "print(f'La mediana de total es: {mediana_Total}')"
      ],
      "metadata": {
        "colab": {
          "base_uri": "https://localhost:8080/"
        },
        "id": "2_2EN909gWXv",
        "outputId": "348f25be-124d-418a-a059-cf6e1d35ecb9"
      },
      "execution_count": 17,
      "outputs": [
        {
          "output_type": "stream",
          "name": "stdout",
          "text": [
            "La mediana de cantidad es: 16.0\n",
            "La mediana de total es: 19400000.0\n"
          ]
        }
      ]
    },
    {
      "cell_type": "markdown",
      "source": [
        "Moda"
      ],
      "metadata": {
        "id": "smvoL8KuQUup"
      }
    },
    {
      "cell_type": "code",
      "source": [
        "moda_Cantidad = df['Cantidad'].mode()\n",
        "print(f'La moda de cantidad es: {moda_Cantidad.tolist()}')\n",
        "\n",
        "moda_Total = df['Total'].mode()\n",
        "print(f'La moda de total es: {moda_Total.tolist()}')"
      ],
      "metadata": {
        "colab": {
          "base_uri": "https://localhost:8080/"
        },
        "id": "Y-cMtqP5g3RE",
        "outputId": "12cd686d-e1ad-4713-f6a7-50c4c2e6541a"
      },
      "execution_count": 21,
      "outputs": [
        {
          "output_type": "stream",
          "name": "stdout",
          "text": [
            "La moda de cantidad es: [24]\n",
            "La moda de total es: [17100000]\n"
          ]
        }
      ]
    },
    {
      "cell_type": "markdown",
      "source": [
        "# **CONCLUSIÓNES:**\n",
        "\n",
        "**Cantidad:**\n",
        "*   La media de cantidad es 15.5877, lo que indica un promedio cercano a 16 unidades por registro. La mediana, también de 16, muestra que la mitad de los registros tiene una cantidad menor o igual a este valor, esto confirma que los datos están balanceados. Por otra parte, la moda es 24, este es el número de unidades que más se repite en los registros.\n",
        "\n",
        "**Total:**\n",
        "\n",
        "*   El promedio del total es 20958672.4482, lo que representa un valor típico en los registros. La mediana es 1940000, indica que la mitad de total es menor o igual a esta cifra y la moda de 1710000 muestra que es el que aparece con mayor frecuencia, aunque hay una variación considerable en los datos."
      ],
      "metadata": {
        "id": "Q3LCdgJAQ7zi"
      }
    },
    {
      "cell_type": "markdown",
      "source": [
        "## Medidas de dispersión"
      ],
      "metadata": {
        "id": "nP5LuDYqjJsP"
      }
    },
    {
      "cell_type": "markdown",
      "source": [
        "Varianza"
      ],
      "metadata": {
        "id": "tHpLPpgylaod"
      }
    },
    {
      "cell_type": "code",
      "source": [
        "varianza_Cantidad = df['Cantidad'].var()\n",
        "print(f'La varianza de cantidad es: {varianza_Cantidad}')\n",
        "\n",
        "varianza_Total = df['Total'].var()\n",
        "print(f'La varianza de total es: {varianza_Total}')"
      ],
      "metadata": {
        "colab": {
          "base_uri": "https://localhost:8080/"
        },
        "id": "YaNrWmcdkx4X",
        "outputId": "d2e06168-4c9f-4122-f42d-ea36cba5bb81"
      },
      "execution_count": 26,
      "outputs": [
        {
          "output_type": "stream",
          "name": "stdout",
          "text": [
            "La varianza de cantidad es: 76.13966231158967\n",
            "La varianza de total es: 181587901774480.44\n"
          ]
        }
      ]
    },
    {
      "cell_type": "markdown",
      "source": [
        "Desviación estandar"
      ],
      "metadata": {
        "id": "0efKpXTalZIV"
      }
    },
    {
      "cell_type": "code",
      "source": [
        "desv_est_Cantidad = df['Cantidad'].std()\n",
        "desv_est_raiz_Cantidad = np.sqrt(varianza_Cantidad)\n",
        "print(f'La desviación estandar de cantidad es: {desv_est_Cantidad}')\n",
        "\n",
        "desv_est_Total = df['Total'].std()\n",
        "desv_est_raiz_Total = np.sqrt(varianza_Total)\n",
        "print(f'La desviación estandar de total es: {desv_est_Total}')"
      ],
      "metadata": {
        "colab": {
          "base_uri": "https://localhost:8080/"
        },
        "id": "pdRPjSrflwi3",
        "outputId": "c4290797-0e1c-40c9-f5b7-c22e0d623d7b"
      },
      "execution_count": 27,
      "outputs": [
        {
          "output_type": "stream",
          "name": "stdout",
          "text": [
            "La desviación estandar de cantidad es: 8.725804393383436\n",
            "La desviación estandar de total es: 13475455.531241994\n"
          ]
        }
      ]
    },
    {
      "cell_type": "markdown",
      "source": [
        "Coeficiente de variación"
      ],
      "metadata": {
        "id": "AtJXchGDmWJk"
      }
    },
    {
      "cell_type": "code",
      "source": [
        "cv_Cantidad = (desv_est_Cantidad/media_Cantidad) * 100\n",
        "print(f'El coeficiente de variación de cantidad es: {cv_Cantidad:.2f}%')\n",
        "\n",
        "cv_Total = (desv_est_Total/media_Total) * 100\n",
        "print(f'El coeficiente de variación de total es: {cv_Total:.2f}%')"
      ],
      "metadata": {
        "colab": {
          "base_uri": "https://localhost:8080/"
        },
        "id": "BiNLYqwymZ5I",
        "outputId": "3cc8f6ad-b82c-4209-e1a5-86a1fc023ada"
      },
      "execution_count": 28,
      "outputs": [
        {
          "output_type": "stream",
          "name": "stdout",
          "text": [
            "El coeficiente de variación de cantidad es: 55.98%\n",
            "El coeficiente de variación de total es: 64.30%\n"
          ]
        }
      ]
    },
    {
      "cell_type": "markdown",
      "source": [
        "# **CONCLUSIÓNES:**\n",
        "\n",
        "**Cantidad:**\n",
        "*   La varianza de 76.1396 y su desviación estándar 8.7258 muestran que los valores tienen una dispersión moderada alrededor de la media de 15.587. Esto significa que, aunque las cantidades varían, no se alejan demaciado del promedio. y el coeficiente de variación del 55.98% indica que la variación relativa es considerable en proporción al valor promedio.\n",
        "\n",
        "**Total:**\n",
        "\n",
        "*   La varianza 181587901774480.44 y su desviación estándar 13475455.53124 reflejan una gran dispersión en los datos, lo que significa que los valores del total son muy variables en relación con el promedio de 2095867.44. El coeficiente de variación del 64.30% confirma que la dispersión relativa del total es alta."
      ],
      "metadata": {
        "id": "XVv2OpRLWQhx"
      }
    },
    {
      "cell_type": "code",
      "source": [],
      "metadata": {
        "id": "L2r1rbWXXKKl"
      },
      "execution_count": null,
      "outputs": []
    }
  ]
}